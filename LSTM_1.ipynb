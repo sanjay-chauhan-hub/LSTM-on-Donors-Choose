{
 "cells": [
  {
   "cell_type": "markdown",
   "metadata": {
    "colab_type": "text",
    "id": "7Od5bBp9N1Lg"
   },
   "source": [
    "# DonorsChoose"
   ]
  },
  {
   "cell_type": "markdown",
   "metadata": {
    "colab_type": "text",
    "id": "5u7wpFZwN1Lh"
   },
   "source": [
    "<p>\n",
    "DonorsChoose.org receives hundreds of thousands of project proposals each year for classroom projects in need of funding. Right now, a large number of volunteers is needed to manually screen each submission before it's approved to be posted on the DonorsChoose.org website.\n",
    "</p>\n",
    "<p>\n",
    "    Next year, DonorsChoose.org expects to receive close to 500,000 project proposals. As a result, there are three main problems they need to solve:\n",
    "<ul>\n",
    "<li>\n",
    "    How to scale current manual processes and resources to screen 500,000 projects so that they can be posted as quickly and as efficiently as possible</li>\n",
    "    <li>How to increase the consistency of project vetting across different volunteers to improve the experience for teachers</li>\n",
    "    <li>How to focus volunteer time on the applications that need the most assistance</li>\n",
    "    </ul>\n",
    "</p>    \n",
    "<p>\n",
    "The goal of the competition is to predict whether or not a DonorsChoose.org project proposal submitted by a teacher will be approved, using the text of project descriptions as well as additional metadata about the project, teacher, and school. DonorsChoose.org can then use this information to identify projects most likely to need further review before approval.\n",
    "</p>"
   ]
  },
  {
   "cell_type": "markdown",
   "metadata": {
    "colab_type": "text",
    "id": "keOckW8PN1Li"
   },
   "source": [
    "## About the DonorsChoose Data Set\n",
    "\n",
    "The `train.csv` data set provided by DonorsChoose contains the following features:\n",
    "\n",
    "Feature | Description \n",
    "----------|---------------\n",
    "**`project_id`** | A unique identifier for the proposed project. **Example:** `p036502`   \n",
    "**`project_title`**    | Title of the project. **Examples:**<br><ul><li><code>Art Will Make You Happy!</code></li><li><code>First Grade Fun</code></li></ul> \n",
    "**`project_grade_category`** | Grade level of students for which the project is targeted. One of the following enumerated values: <br/><ul><li><code>Grades PreK-2</code></li><li><code>Grades 3-5</code></li><li><code>Grades 6-8</code></li><li><code>Grades 9-12</code></li></ul>  \n",
    " **`project_subject_categories`** | One or more (comma-separated) subject categories for the project from the following enumerated list of values:  <br/><ul><li><code>Applied Learning</code></li><li><code>Care &amp; Hunger</code></li><li><code>Health &amp; Sports</code></li><li><code>History &amp; Civics</code></li><li><code>Literacy &amp; Language</code></li><li><code>Math &amp; Science</code></li><li><code>Music &amp; The Arts</code></li><li><code>Special Needs</code></li><li><code>Warmth</code></li></ul><br/> **Examples:** <br/><ul><li><code>Music &amp; The Arts</code></li><li><code>Literacy &amp; Language, Math &amp; Science</code></li>  \n",
    "  **`school_state`** | State where school is located ([Two-letter U.S. postal code](https://en.wikipedia.org/wiki/List_of_U.S._state_abbreviations#Postal_codes)). **Example:** `WY`\n",
    "**`project_subject_subcategories`** | One or more (comma-separated) subject subcategories for the project. **Examples:** <br/><ul><li><code>Literacy</code></li><li><code>Literature &amp; Writing, Social Sciences</code></li></ul> \n",
    "**`project_resource_summary`** | An explanation of the resources needed for the project. **Example:** <br/><ul><li><code>My students need hands on literacy materials to manage sensory needs!</code</li></ul> \n",
    "**`project_essay_1`**    | First application essay<sup>*</sup>  \n",
    "**`project_essay_2`**    | Second application essay<sup>*</sup> \n",
    "**`project_essay_3`**    | Third application essay<sup>*</sup> \n",
    "**`project_essay_4`**    | Fourth application essay<sup>*</sup> \n",
    "**`project_submitted_datetime`** | Datetime when project application was submitted. **Example:** `2016-04-28 12:43:56.245`   \n",
    "**`teacher_id`** | A unique identifier for the teacher of the proposed project. **Example:** `bdf8baa8fedef6bfeec7ae4ff1c15c56`  \n",
    "**`teacher_prefix`** | Teacher's title. One of the following enumerated values: <br/><ul><li><code>nan</code></li><li><code>Dr.</code></li><li><code>Mr.</code></li><li><code>Mrs.</code></li><li><code>Ms.</code></li><li><code>Teacher.</code></li></ul>  \n",
    "**`teacher_number_of_previously_posted_projects`** | Number of project applications previously submitted by the same teacher. **Example:** `2` \n",
    "\n",
    "<sup>*</sup> See the section <b>Notes on the Essay Data</b> for more details about these features.\n",
    "\n",
    "Additionally, the `resources.csv` data set provides more data about the resources required for each project. Each line in this file represents a resource required by a project:\n",
    "\n",
    "Feature | Description \n",
    "----------|---------------\n",
    "**`id`** | A `project_id` value from the `train.csv` file.  **Example:** `p036502`   \n",
    "**`description`** | Desciption of the resource. **Example:** `Tenor Saxophone Reeds, Box of 25`   \n",
    "**`quantity`** | Quantity of the resource required. **Example:** `3`   \n",
    "**`price`** | Price of the resource required. **Example:** `9.95`   \n",
    "\n",
    "**Note:** Many projects require multiple resources. The `id` value corresponds to a `project_id` in train.csv, so you use it as a key to retrieve all resources needed for a project:\n",
    "\n",
    "The data set contains the following label (the value you will attempt to predict):\n",
    "\n",
    "Label | Description\n",
    "----------|---------------\n",
    "`project_is_approved` | A binary flag indicating whether DonorsChoose approved the project. A value of `0` indicates the project was not approved, and a value of `1` indicates the project was approved."
   ]
  },
  {
   "cell_type": "markdown",
   "metadata": {
    "colab_type": "text",
    "id": "uxakXcmGN1Lj"
   },
   "source": [
    "### Notes on the Essay Data\n",
    "\n",
    "<ul>\n",
    "Prior to May 17, 2016, the prompts for the essays were as follows:\n",
    "<li>__project_essay_1:__ \"Introduce us to your classroom\"</li>\n",
    "<li>__project_essay_2:__ \"Tell us more about your students\"</li>\n",
    "<li>__project_essay_3:__ \"Describe how your students will use the materials you're requesting\"</li>\n",
    "<li>__project_essay_3:__ \"Close by sharing why your project will make a difference\"</li>\n",
    "</ul>\n",
    "\n",
    "\n",
    "<ul>\n",
    "Starting on May 17, 2016, the number of essays was reduced from 4 to 2, and the prompts for the first 2 essays were changed to the following:<br>\n",
    "<li>__project_essay_1:__ \"Describe your students: What makes your students special? Specific details about their background, your neighborhood, and your school are all helpful.\"</li>\n",
    "<li>__project_essay_2:__ \"About your project: How will these materials make a difference in your students' learning and improve their school lives?\"</li>\n",
    "<br>For all projects with project_submitted_datetime of 2016-05-17 and later, the values of project_essay_3 and project_essay_4 will be NaN.\n",
    "</ul>\n"
   ]
  },
  {
   "cell_type": "code",
   "execution_count": 0,
   "metadata": {
    "colab": {
     "base_uri": "https://localhost:8080/",
     "height": 54
    },
    "colab_type": "code",
    "executionInfo": {
     "elapsed": 960,
     "status": "ok",
     "timestamp": 1575485680906,
     "user": {
      "displayName": "Himanshu Bandoliya",
      "photoUrl": "",
      "userId": "03705328663112349542"
     },
     "user_tz": -330
    },
    "id": "gvViuW07p3hI",
    "outputId": "5cdc8865-4955-47a9-ec85-2e50c6febbfa"
   },
   "outputs": [
    {
     "name": "stdout",
     "output_type": "stream",
     "text": [
      "Drive already mounted at /content/drive; to attempt to forcibly remount, call drive.mount(\"/content/drive\", force_remount=True).\n"
     ]
    }
   ],
   "source": [
    "from google.colab import drive\n",
    "drive.mount('/content/drive')"
   ]
  },
  {
   "cell_type": "code",
   "execution_count": 0,
   "metadata": {
    "colab": {
     "base_uri": "https://localhost:8080/",
     "height": 17
    },
    "colab_type": "code",
    "executionInfo": {
     "elapsed": 3763,
     "status": "ok",
     "timestamp": 1575488177672,
     "user": {
      "displayName": "Himanshu Bandoliya",
      "photoUrl": "",
      "userId": "03705328663112349542"
     },
     "user_tz": -330
    },
    "id": "Ac3XhloUN1Ll",
    "outputId": "245bffa4-d6f7-441d-c2ab-7297740862e8"
   },
   "outputs": [],
   "source": [
    "%matplotlib inline\n",
    "import warnings\n",
    "warnings.filterwarnings(\"ignore\")\n",
    "\n",
    "import sqlite3\n",
    "import pandas as pd\n",
    "import numpy as np\n",
    "import nltk\n",
    "import string\n",
    "import matplotlib.pyplot as plt\n",
    "import seaborn as sns\n",
    "from sklearn.feature_extraction.text import TfidfTransformer\n",
    "from sklearn.feature_extraction.text import TfidfVectorizer\n",
    "\n",
    "from sklearn.feature_extraction.text import CountVectorizer\n",
    "from sklearn.metrics import confusion_matrix\n",
    "from sklearn import metrics\n",
    "from sklearn.metrics import roc_curve, auc\n",
    "from nltk.stem.porter import PorterStemmer\n",
    "from sklearn.preprocessing import LabelEncoder\n",
    "import re\n",
    "# Tutorial about Python regular expressions: https://pymotw.com/2/re/\n",
    "import string\n",
    "from nltk.corpus import stopwords\n",
    "from nltk.stem import PorterStemmer\n",
    "from nltk.stem.wordnet import WordNetLemmatizer\n",
    "\n",
    "from gensim.models import Word2Vec\n",
    "from gensim.models import KeyedVectors\n",
    "import pickle\n",
    "\n",
    "from tqdm import tqdm\n",
    "import os\n",
    "\n",
    "from chart_studio import plotly\n",
    "import plotly.offline as offline\n",
    "import plotly.graph_objs as go\n",
    "offline.init_notebook_mode()\n",
    "from collections import Counter\n",
    "from keras.utils import to_categorical\n",
    "\n",
    "from tensorflow.keras.callbacks import TensorBoard"
   ]
  },
  {
   "cell_type": "code",
   "execution_count": 0,
   "metadata": {
    "colab": {},
    "colab_type": "code",
    "id": "XFNE3SRwyh81"
   },
   "outputs": [],
   "source": [
    "import matplotlib.pyplot as plt\n",
    "from sklearn.neighbors import KNeighborsClassifier\n",
    "from sklearn.metrics import roc_auc_score\n",
    "from scipy.sparse import hstack\n",
    "from numpy import zeros\n",
    "from keras.preprocessing.text import Tokenizer\n",
    "from keras.preprocessing.sequence import pad_sequences\n",
    "from tensorflow.keras.layers import Input\n",
    "from tensorflow.keras.layers import Flatten\n",
    "from tensorflow.keras.layers import Embedding\n",
    "from tensorflow.keras.layers import LSTM,Bidirectional\n",
    "from tensorflow.keras.models import Model, load_model\n",
    "from tensorflow.keras.layers import BatchNormalization\n",
    "from tensorflow.keras.callbacks import ReduceLROnPlateau\n",
    "from tensorflow.keras.layers import Dense\n"
   ]
  },
  {
   "cell_type": "markdown",
   "metadata": {
    "colab_type": "text",
    "id": "So4PAGWPN1Lv"
   },
   "source": [
    "## 1.1 Reading Data"
   ]
  },
  {
   "cell_type": "code",
   "execution_count": 0,
   "metadata": {
    "colab": {},
    "colab_type": "code",
    "id": "L00MEEkry0go"
   },
   "outputs": [],
   "source": [
    "file_train = \"/content/drive/My Drive/Colab Notebooks/Data/train_data.csv\"\n",
    "file_resource = \"/content/drive/My Drive/Colab Notebooks/Data/resources.csv\""
   ]
  },
  {
   "cell_type": "code",
   "execution_count": 0,
   "metadata": {
    "colab": {},
    "colab_type": "code",
    "id": "kV1VkghZN1Lw"
   },
   "outputs": [],
   "source": [
    "project_data = pd.read_csv(file_train)\n",
    "resource_data = pd.read_csv(file_resource)"
   ]
  },
  {
   "cell_type": "code",
   "execution_count": 0,
   "metadata": {
    "colab": {
     "base_uri": "https://localhost:8080/",
     "height": 153
    },
    "colab_type": "code",
    "executionInfo": {
     "elapsed": 2139,
     "status": "ok",
     "timestamp": 1575488195620,
     "user": {
      "displayName": "Himanshu Bandoliya",
      "photoUrl": "",
      "userId": "03705328663112349542"
     },
     "user_tz": -330
    },
    "id": "2XZKpv2zN1L0",
    "outputId": "e72699b0-1900-4967-e67c-c5cfad59c3bf"
   },
   "outputs": [
    {
     "name": "stdout",
     "output_type": "stream",
     "text": [
      "Number of data points in train data (109248, 17)\n",
      "--------------------------------------------------\n",
      "The attributes of data : ['Unnamed: 0' 'id' 'teacher_id' 'teacher_prefix' 'school_state'\n",
      " 'project_submitted_datetime' 'project_grade_category'\n",
      " 'project_subject_categories' 'project_subject_subcategories'\n",
      " 'project_title' 'project_essay_1' 'project_essay_2' 'project_essay_3'\n",
      " 'project_essay_4' 'project_resource_summary'\n",
      " 'teacher_number_of_previously_posted_projects' 'project_is_approved']\n"
     ]
    }
   ],
   "source": [
    "print(\"Number of data points in train data\", project_data.shape)\n",
    "print('-'*50)\n",
    "print(\"The attributes of data :\", project_data.columns.values)"
   ]
  },
  {
   "cell_type": "code",
   "execution_count": 0,
   "metadata": {
    "colab": {
     "base_uri": "https://localhost:8080/",
     "height": 145
    },
    "colab_type": "code",
    "executionInfo": {
     "elapsed": 1726,
     "status": "ok",
     "timestamp": 1575488197933,
     "user": {
      "displayName": "Himanshu Bandoliya",
      "photoUrl": "",
      "userId": "03705328663112349542"
     },
     "user_tz": -330
    },
    "id": "56EW1wdvN1L5",
    "outputId": "ece058e0-222a-4f9b-cf7d-633ae0b7f5ca"
   },
   "outputs": [
    {
     "name": "stdout",
     "output_type": "stream",
     "text": [
      "Number of data points in resource data (1541272, 4)\n",
      "['id' 'description' 'quantity' 'price']\n"
     ]
    },
    {
     "data": {
      "text/html": [
       "<div>\n",
       "<style scoped>\n",
       "    .dataframe tbody tr th:only-of-type {\n",
       "        vertical-align: middle;\n",
       "    }\n",
       "\n",
       "    .dataframe tbody tr th {\n",
       "        vertical-align: top;\n",
       "    }\n",
       "\n",
       "    .dataframe thead th {\n",
       "        text-align: right;\n",
       "    }\n",
       "</style>\n",
       "<table border=\"1\" class=\"dataframe\">\n",
       "  <thead>\n",
       "    <tr style=\"text-align: right;\">\n",
       "      <th></th>\n",
       "      <th>id</th>\n",
       "      <th>description</th>\n",
       "      <th>quantity</th>\n",
       "      <th>price</th>\n",
       "    </tr>\n",
       "  </thead>\n",
       "  <tbody>\n",
       "    <tr>\n",
       "      <th>0</th>\n",
       "      <td>p233245</td>\n",
       "      <td>LC652 - Lakeshore Double-Space Mobile Drying Rack</td>\n",
       "      <td>1</td>\n",
       "      <td>149.00</td>\n",
       "    </tr>\n",
       "    <tr>\n",
       "      <th>1</th>\n",
       "      <td>p069063</td>\n",
       "      <td>Bouncy Bands for Desks (Blue support pipes)</td>\n",
       "      <td>3</td>\n",
       "      <td>14.95</td>\n",
       "    </tr>\n",
       "  </tbody>\n",
       "</table>\n",
       "</div>"
      ],
      "text/plain": [
       "        id                                        description  quantity   price\n",
       "0  p233245  LC652 - Lakeshore Double-Space Mobile Drying Rack         1  149.00\n",
       "1  p069063        Bouncy Bands for Desks (Blue support pipes)         3   14.95"
      ]
     },
     "execution_count": 164,
     "metadata": {
      "tags": []
     },
     "output_type": "execute_result"
    }
   ],
   "source": [
    "print(\"Number of data points in resource data\", resource_data.shape)\n",
    "print(resource_data.columns.values)\n",
    "resource_data.head(2)"
   ]
  },
  {
   "cell_type": "code",
   "execution_count": 0,
   "metadata": {
    "colab": {
     "base_uri": "https://localhost:8080/",
     "height": 323
    },
    "colab_type": "code",
    "executionInfo": {
     "elapsed": 2457,
     "status": "ok",
     "timestamp": 1575488201282,
     "user": {
      "displayName": "Himanshu Bandoliya",
      "photoUrl": "",
      "userId": "03705328663112349542"
     },
     "user_tz": -330
    },
    "id": "Up2JM3aB1UUI",
    "outputId": "3e4903e9-7548-4fd8-a97b-4584ec37301d"
   },
   "outputs": [
    {
     "data": {
      "text/plain": [
       "Unnamed: 0                                           0\n",
       "id                                                   0\n",
       "teacher_id                                           0\n",
       "teacher_prefix                                       3\n",
       "school_state                                         0\n",
       "project_submitted_datetime                           0\n",
       "project_grade_category                               0\n",
       "project_subject_categories                           0\n",
       "project_subject_subcategories                        0\n",
       "project_title                                        0\n",
       "project_essay_1                                      0\n",
       "project_essay_2                                      0\n",
       "project_essay_3                                 105490\n",
       "project_essay_4                                 105490\n",
       "project_resource_summary                             0\n",
       "teacher_number_of_previously_posted_projects         0\n",
       "project_is_approved                                  0\n",
       "dtype: int64"
      ]
     },
     "execution_count": 165,
     "metadata": {
      "tags": []
     },
     "output_type": "execute_result"
    }
   ],
   "source": [
    "project_data.isnull().sum()"
   ]
  },
  {
   "cell_type": "code",
   "execution_count": 0,
   "metadata": {
    "colab": {},
    "colab_type": "code",
    "id": "0PB6I5bi1iTu"
   },
   "outputs": [],
   "source": [
    "project_data= project_data[project_data[\"teacher_prefix\"].notnull()]"
   ]
  },
  {
   "cell_type": "code",
   "execution_count": 0,
   "metadata": {
    "colab": {
     "base_uri": "https://localhost:8080/",
     "height": 323
    },
    "colab_type": "code",
    "executionInfo": {
     "elapsed": 1862,
     "status": "ok",
     "timestamp": 1575488206199,
     "user": {
      "displayName": "Himanshu Bandoliya",
      "photoUrl": "",
      "userId": "03705328663112349542"
     },
     "user_tz": -330
    },
    "id": "6sSnH56d2KW-",
    "outputId": "92b39e84-8458-4c72-8b91-45e3346ff1f0"
   },
   "outputs": [
    {
     "data": {
      "text/plain": [
       "Unnamed: 0                                           0\n",
       "id                                                   0\n",
       "teacher_id                                           0\n",
       "teacher_prefix                                       0\n",
       "school_state                                         0\n",
       "project_submitted_datetime                           0\n",
       "project_grade_category                               0\n",
       "project_subject_categories                           0\n",
       "project_subject_subcategories                        0\n",
       "project_title                                        0\n",
       "project_essay_1                                      0\n",
       "project_essay_2                                      0\n",
       "project_essay_3                                 105488\n",
       "project_essay_4                                 105488\n",
       "project_resource_summary                             0\n",
       "teacher_number_of_previously_posted_projects         0\n",
       "project_is_approved                                  0\n",
       "dtype: int64"
      ]
     },
     "execution_count": 167,
     "metadata": {
      "tags": []
     },
     "output_type": "execute_result"
    }
   ],
   "source": [
    "project_data.isnull().sum()"
   ]
  },
  {
   "cell_type": "markdown",
   "metadata": {
    "colab_type": "text",
    "id": "49t2H2HwN1L8"
   },
   "source": [
    "## 1.2 preprocessing of `project_subject_categories`"
   ]
  },
  {
   "cell_type": "code",
   "execution_count": 0,
   "metadata": {
    "colab": {},
    "colab_type": "code",
    "id": "RMx6975eN1L-"
   },
   "outputs": [],
   "source": [
    "catogories = list(project_data['project_subject_categories'].values)\n",
    "# remove special characters from list of strings python: https://stackoverflow.com/a/47301924/4084039\n",
    "\n",
    "# https://www.geeksforgeeks.org/removing-stop-words-nltk-python/\n",
    "# https://stackoverflow.com/questions/23669024/how-to-strip-a-specific-word-from-a-string\n",
    "# https://stackoverflow.com/questions/8270092/remove-all-whitespace-in-a-string-in-python\n",
    "cat_list = []\n",
    "for i in catogories:\n",
    "    temp = \"\"\n",
    "    # consider we have text like this \"Math & Science, Warmth, Care & Hunger\"\n",
    "    for j in i.split(','): # it will split it in three parts [\"Math & Science\", \"Warmth\", \"Care & Hunger\"]\n",
    "        if 'The' in j.split(): # this will split each of the catogory based on space \"Math & Science\"=> \"Math\",\"&\", \"Science\"\n",
    "            j=j.replace('The','') # if we have the words \"The\" we are going to replace it with ''(i.e removing 'The')\n",
    "        j = j.replace(' ','') # we are placeing all the ' '(space) with ''(empty) ex:\"Math & Science\"=>\"Math&Science\"\n",
    "        temp+=j.strip()+\" \" #\" abc \".strip() will return \"abc\", remove the trailing spaces\n",
    "        temp = temp.replace('&','_') # we are replacing the & value into \n",
    "    cat_list.append(temp.strip())\n",
    "    \n",
    "project_data['clean_categories'] = cat_list\n",
    "project_data.drop(['project_subject_categories'], axis=1, inplace=True)\n",
    "\n",
    "from collections import Counter\n",
    "my_counter = Counter()\n",
    "for word in project_data['clean_categories'].values:\n",
    "    my_counter.update(word.split())\n",
    "\n",
    "cat_dict = dict(my_counter)\n",
    "sorted_cat_dict = dict(sorted(cat_dict.items(), key=lambda kv: kv[1]))\n"
   ]
  },
  {
   "cell_type": "markdown",
   "metadata": {
    "colab_type": "text",
    "id": "hIRe9h-PN1MB"
   },
   "source": [
    "## 1.3 preprocessing of `project_subject_subcategories`"
   ]
  },
  {
   "cell_type": "code",
   "execution_count": 0,
   "metadata": {
    "colab": {},
    "colab_type": "code",
    "id": "KH655NiTN1MD"
   },
   "outputs": [],
   "source": [
    "sub_catogories = list(project_data['project_subject_subcategories'].values)\n",
    "# remove special characters from list of strings python: https://stackoverflow.com/a/47301924/4084039\n",
    "\n",
    "# https://www.geeksforgeeks.org/removing-stop-words-nltk-python/\n",
    "# https://stackoverflow.com/questions/23669024/how-to-strip-a-specific-word-from-a-string\n",
    "# https://stackoverflow.com/questions/8270092/remove-all-whitespace-in-a-string-in-python\n",
    "\n",
    "sub_cat_list = []\n",
    "for i in sub_catogories:\n",
    "    temp = \"\"\n",
    "    # consider we have text like this \"Math & Science, Warmth, Care & Hunger\"\n",
    "    for j in i.split(','): # it will split it in three parts [\"Math & Science\", \"Warmth\", \"Care & Hunger\"]\n",
    "        if 'The' in j.split(): # this will split each of the catogory based on space \"Math & Science\"=> \"Math\",\"&\", \"Science\"\n",
    "            j=j.replace('The','') # if we have the words \"The\" we are going to replace it with ''(i.e removing 'The')\n",
    "        j = j.replace(' ','') # we are placeing all the ' '(space) with ''(empty) ex:\"Math & Science\"=>\"Math&Science\"\n",
    "        temp +=j.strip()+\" \"#\" abc \".strip() will return \"abc\", remove the trailing spaces\n",
    "        temp = temp.replace('&','_')\n",
    "    sub_cat_list.append(temp.strip())\n",
    "\n",
    "project_data['clean_subcategories'] = sub_cat_list\n",
    "project_data.drop(['project_subject_subcategories'], axis=1, inplace=True)\n",
    "\n",
    "# count of all the words in corpus python: https://stackoverflow.com/a/22898595/4084039\n",
    "my_counter = Counter()\n",
    "for word in project_data['clean_subcategories'].values:\n",
    "    my_counter.update(word.split())\n",
    "    \n",
    "sub_cat_dict = dict(my_counter)\n",
    "sorted_sub_cat_dict = dict(sorted(sub_cat_dict.items(), key=lambda kv: kv[1]))"
   ]
  },
  {
   "cell_type": "markdown",
   "metadata": {
    "colab_type": "text",
    "id": "EftBxw8MN1MG"
   },
   "source": [
    "## 1.3 Text preprocessing"
   ]
  },
  {
   "cell_type": "code",
   "execution_count": 0,
   "metadata": {
    "colab": {},
    "colab_type": "code",
    "id": "Ak4yp4twN1MH"
   },
   "outputs": [],
   "source": [
    "# merge two column text dataframe: \n",
    "project_data[\"essay\"] = project_data[\"project_essay_1\"].map(str) +\\\n",
    "                        project_data[\"project_essay_2\"].map(str) + \\\n",
    "                        project_data[\"project_essay_3\"].map(str) + \\\n",
    "                        project_data[\"project_essay_4\"].map(str)"
   ]
  },
  {
   "cell_type": "code",
   "execution_count": 0,
   "metadata": {
    "colab": {
     "base_uri": "https://localhost:8080/",
     "height": 352
    },
    "colab_type": "code",
    "executionInfo": {
     "elapsed": 962,
     "status": "ok",
     "timestamp": 1575488218108,
     "user": {
      "displayName": "Himanshu Bandoliya",
      "photoUrl": "",
      "userId": "03705328663112349542"
     },
     "user_tz": -330
    },
    "id": "q6ST72vNN1MK",
    "outputId": "296c2fa6-7b50-45c0-ec0a-69cb5f056a1a"
   },
   "outputs": [
    {
     "data": {
      "text/html": [
       "<div>\n",
       "<style scoped>\n",
       "    .dataframe tbody tr th:only-of-type {\n",
       "        vertical-align: middle;\n",
       "    }\n",
       "\n",
       "    .dataframe tbody tr th {\n",
       "        vertical-align: top;\n",
       "    }\n",
       "\n",
       "    .dataframe thead th {\n",
       "        text-align: right;\n",
       "    }\n",
       "</style>\n",
       "<table border=\"1\" class=\"dataframe\">\n",
       "  <thead>\n",
       "    <tr style=\"text-align: right;\">\n",
       "      <th></th>\n",
       "      <th>Unnamed: 0</th>\n",
       "      <th>id</th>\n",
       "      <th>teacher_id</th>\n",
       "      <th>teacher_prefix</th>\n",
       "      <th>school_state</th>\n",
       "      <th>project_submitted_datetime</th>\n",
       "      <th>project_grade_category</th>\n",
       "      <th>project_title</th>\n",
       "      <th>project_essay_1</th>\n",
       "      <th>project_essay_2</th>\n",
       "      <th>project_essay_3</th>\n",
       "      <th>project_essay_4</th>\n",
       "      <th>project_resource_summary</th>\n",
       "      <th>teacher_number_of_previously_posted_projects</th>\n",
       "      <th>project_is_approved</th>\n",
       "      <th>clean_categories</th>\n",
       "      <th>clean_subcategories</th>\n",
       "      <th>essay</th>\n",
       "    </tr>\n",
       "  </thead>\n",
       "  <tbody>\n",
       "    <tr>\n",
       "      <th>0</th>\n",
       "      <td>160221</td>\n",
       "      <td>p253737</td>\n",
       "      <td>c90749f5d961ff158d4b4d1e7dc665fc</td>\n",
       "      <td>Mrs.</td>\n",
       "      <td>IN</td>\n",
       "      <td>2016-12-05 13:43:57</td>\n",
       "      <td>Grades PreK-2</td>\n",
       "      <td>Educational Support for English Learners at Home</td>\n",
       "      <td>My students are English learners that are work...</td>\n",
       "      <td>\\\"The limits of your language are the limits o...</td>\n",
       "      <td>NaN</td>\n",
       "      <td>NaN</td>\n",
       "      <td>My students need opportunities to practice beg...</td>\n",
       "      <td>0</td>\n",
       "      <td>0</td>\n",
       "      <td>Literacy_Language</td>\n",
       "      <td>ESL Literacy</td>\n",
       "      <td>My students are English learners that are work...</td>\n",
       "    </tr>\n",
       "    <tr>\n",
       "      <th>1</th>\n",
       "      <td>140945</td>\n",
       "      <td>p258326</td>\n",
       "      <td>897464ce9ddc600bced1151f324dd63a</td>\n",
       "      <td>Mr.</td>\n",
       "      <td>FL</td>\n",
       "      <td>2016-10-25 09:22:10</td>\n",
       "      <td>Grades 6-8</td>\n",
       "      <td>Wanted: Projector for Hungry Learners</td>\n",
       "      <td>Our students arrive to our school eager to lea...</td>\n",
       "      <td>The projector we need for our school is very c...</td>\n",
       "      <td>NaN</td>\n",
       "      <td>NaN</td>\n",
       "      <td>My students need a projector to help with view...</td>\n",
       "      <td>7</td>\n",
       "      <td>1</td>\n",
       "      <td>History_Civics Health_Sports</td>\n",
       "      <td>Civics_Government TeamSports</td>\n",
       "      <td>Our students arrive to our school eager to lea...</td>\n",
       "    </tr>\n",
       "  </tbody>\n",
       "</table>\n",
       "</div>"
      ],
      "text/plain": [
       "   Unnamed: 0  ...                                              essay\n",
       "0      160221  ...  My students are English learners that are work...\n",
       "1      140945  ...  Our students arrive to our school eager to lea...\n",
       "\n",
       "[2 rows x 18 columns]"
      ]
     },
     "execution_count": 171,
     "metadata": {
      "tags": []
     },
     "output_type": "execute_result"
    }
   ],
   "source": [
    "project_data.head(2)"
   ]
  },
  {
   "cell_type": "code",
   "execution_count": 0,
   "metadata": {
    "colab": {},
    "colab_type": "code",
    "id": "1nYsCeFCN1MW"
   },
   "outputs": [],
   "source": [
    "# https://stackoverflow.com/a/47091490/4084039\n",
    "import re\n",
    "\n",
    "def decontracted(phrase):\n",
    "    # specific\n",
    "    phrase = re.sub(r\"won't\", \"will not\", phrase)\n",
    "    phrase = re.sub(r\"can\\'t\", \"can not\", phrase)\n",
    "\n",
    "    # general\n",
    "    phrase = re.sub(r\"n\\'t\", \" not\", phrase)\n",
    "    phrase = re.sub(r\"\\'re\", \" are\", phrase)\n",
    "    phrase = re.sub(r\"\\'s\", \" is\", phrase)\n",
    "    phrase = re.sub(r\"\\'d\", \" would\", phrase)\n",
    "    phrase = re.sub(r\"\\'ll\", \" will\", phrase)\n",
    "    phrase = re.sub(r\"\\'t\", \" not\", phrase)\n",
    "    phrase = re.sub(r\"\\'ve\", \" have\", phrase)\n",
    "    phrase = re.sub(r\"\\'m\", \" am\", phrase)\n",
    "    return phrase"
   ]
  },
  {
   "cell_type": "code",
   "execution_count": 0,
   "metadata": {
    "colab": {
     "base_uri": "https://localhost:8080/",
     "height": 71
    },
    "colab_type": "code",
    "executionInfo": {
     "elapsed": 912,
     "status": "ok",
     "timestamp": 1575488223496,
     "user": {
      "displayName": "Himanshu Bandoliya",
      "photoUrl": "",
      "userId": "03705328663112349542"
     },
     "user_tz": -330
    },
    "id": "qIr2zr3mN1MZ",
    "outputId": "fb7d203d-4678-43c1-b7cd-1fbe196c0d1c"
   },
   "outputs": [
    {
     "name": "stdout",
     "output_type": "stream",
     "text": [
      "My wonderful students are 3, 4, and 5 years old.  We are located in a small town outside of Charlotte, NC.  All of my 22 students are children of school district employees.\\r\\nMy students are bright, energetic, and they love to learn!  They love hands-on activities that get them moving.  Like most preschoolers, they enjoy music and creating different things. \\r\\nAll of my students come from wonderful families that are very supportive of our classroom.  Our parents enjoy watching their children is growth as much as we do!These materials will help me teach my students all about the life cycle of a butterfly.  We will watch as the Painted Lady caterpillars grow bigger and build their chrysalis.  After a few weeks they will emerge from the chrysalis as beautiful butterflies!  We already have a net for the chrysalises, but we still need the caterpillars and feeding station.\\r\\nThis will be an unforgettable experience for my students.  My student absolutely love hands-on materials.  They learn so much from getting to touch and manipulate different things.  The supporting materials I have selected will help my students understand the life cycle through exploration.nannan\n",
      "==================================================\n"
     ]
    }
   ],
   "source": [
    "sent = decontracted(project_data['essay'].values[20000])\n",
    "print(sent)\n",
    "print(\"=\"*50)"
   ]
  },
  {
   "cell_type": "code",
   "execution_count": 0,
   "metadata": {
    "colab": {
     "base_uri": "https://localhost:8080/",
     "height": 54
    },
    "colab_type": "code",
    "executionInfo": {
     "elapsed": 1198,
     "status": "ok",
     "timestamp": 1575488225779,
     "user": {
      "displayName": "Himanshu Bandoliya",
      "photoUrl": "",
      "userId": "03705328663112349542"
     },
     "user_tz": -330
    },
    "id": "QybPh11vN1Md",
    "outputId": "04cec499-7674-4224-f05e-6d07009e32c0"
   },
   "outputs": [
    {
     "name": "stdout",
     "output_type": "stream",
     "text": [
      "My wonderful students are 3, 4, and 5 years old.  We are located in a small town outside of Charlotte, NC.  All of my 22 students are children of school district employees.  My students are bright, energetic, and they love to learn!  They love hands-on activities that get them moving.  Like most preschoolers, they enjoy music and creating different things.   All of my students come from wonderful families that are very supportive of our classroom.  Our parents enjoy watching their children is growth as much as we do!These materials will help me teach my students all about the life cycle of a butterfly.  We will watch as the Painted Lady caterpillars grow bigger and build their chrysalis.  After a few weeks they will emerge from the chrysalis as beautiful butterflies!  We already have a net for the chrysalises, but we still need the caterpillars and feeding station.  This will be an unforgettable experience for my students.  My student absolutely love hands-on materials.  They learn so much from getting to touch and manipulate different things.  The supporting materials I have selected will help my students understand the life cycle through exploration.nannan\n"
     ]
    }
   ],
   "source": [
    "# \\r \\n \\t remove from string python: http://texthandler.com/info/remove-line-breaks-python/\n",
    "sent = sent.replace('\\\\r', ' ')\n",
    "sent = sent.replace('\\\\\"', ' ')\n",
    "sent = sent.replace('\\\\n', ' ')\n",
    "print(sent)"
   ]
  },
  {
   "cell_type": "code",
   "execution_count": 0,
   "metadata": {
    "colab": {
     "base_uri": "https://localhost:8080/",
     "height": 54
    },
    "colab_type": "code",
    "executionInfo": {
     "elapsed": 1149,
     "status": "ok",
     "timestamp": 1575488227694,
     "user": {
      "displayName": "Himanshu Bandoliya",
      "photoUrl": "",
      "userId": "03705328663112349542"
     },
     "user_tz": -330
    },
    "id": "irL9f3wBN1Mj",
    "outputId": "89b26fed-7739-4faa-9d78-4e52dfb5d763"
   },
   "outputs": [
    {
     "name": "stdout",
     "output_type": "stream",
     "text": [
      "My wonderful students are 3 4 and 5 years old We are located in a small town outside of Charlotte NC All of my 22 students are children of school district employees My students are bright energetic and they love to learn They love hands on activities that get them moving Like most preschoolers they enjoy music and creating different things All of my students come from wonderful families that are very supportive of our classroom Our parents enjoy watching their children is growth as much as we do These materials will help me teach my students all about the life cycle of a butterfly We will watch as the Painted Lady caterpillars grow bigger and build their chrysalis After a few weeks they will emerge from the chrysalis as beautiful butterflies We already have a net for the chrysalises but we still need the caterpillars and feeding station This will be an unforgettable experience for my students My student absolutely love hands on materials They learn so much from getting to touch and manipulate different things The supporting materials I have selected will help my students understand the life cycle through exploration nannan\n"
     ]
    }
   ],
   "source": [
    "#remove spacial character: https://stackoverflow.com/a/5843547/4084039\n",
    "sent = re.sub('[^A-Za-z0-9]+', ' ', sent)\n",
    "print(sent)"
   ]
  },
  {
   "cell_type": "code",
   "execution_count": 0,
   "metadata": {
    "colab": {},
    "colab_type": "code",
    "id": "mOBm8phKN1Mp"
   },
   "outputs": [],
   "source": [
    "# https://gist.github.com/sebleier/554280\n",
    "# we are removing the words from the stop words list: 'no', 'nor', 'not'\n",
    "stopwords= ['i', 'me', 'my', 'myself', 'we', 'our', 'ours', 'ourselves', 'you', \"you're\", \"you've\",\\\n",
    "            \"you'll\", \"you'd\", 'your', 'yours', 'yourself', 'yourselves', 'he', 'him', 'his', 'himself', \\\n",
    "            'she', \"she's\", 'her', 'hers', 'herself', 'it', \"it's\", 'its', 'itself', 'they', 'them', 'their',\\\n",
    "            'theirs', 'themselves', 'what', 'which', 'who', 'whom', 'this', 'that', \"that'll\", 'these', 'those', \\\n",
    "            'am', 'is', 'are', 'was', 'were', 'be', 'been', 'being', 'have', 'has', 'had', 'having', 'do', 'does', \\\n",
    "            'did', 'doing', 'a', 'an', 'the', 'and', 'but', 'if', 'or', 'because', 'as', 'until', 'while', 'of', \\\n",
    "            'at', 'by', 'for', 'with', 'about', 'against', 'between', 'into', 'through', 'during', 'before', 'after',\\\n",
    "            'above', 'below', 'to', 'from', 'up', 'down', 'in', 'out', 'on', 'off', 'over', 'under', 'again', 'further',\\\n",
    "            'then', 'once', 'here', 'there', 'when', 'where', 'why', 'how', 'all', 'any', 'both', 'each', 'few', 'more',\\\n",
    "            'most', 'other', 'some', 'such', 'only', 'own', 'same', 'so', 'than', 'too', 'very', \\\n",
    "            's', 't', 'can', 'will', 'just', 'don', \"don't\", 'should', \"should've\", 'now', 'd', 'll', 'm', 'o', 're', \\\n",
    "            've', 'y', 'ain', 'aren', \"aren't\", 'couldn', \"couldn't\", 'didn', \"didn't\", 'doesn', \"doesn't\", 'hadn',\\\n",
    "            \"hadn't\", 'hasn', \"hasn't\", 'haven', \"haven't\", 'isn', \"isn't\", 'ma', 'mightn', \"mightn't\", 'mustn',\\\n",
    "            \"mustn't\", 'needn', \"needn't\", 'shan', \"shan't\", 'shouldn', \"shouldn't\", 'wasn', \"wasn't\", 'weren', \"weren't\", \\\n",
    "            'won', \"won't\", 'wouldn', \"wouldn't\"]"
   ]
  },
  {
   "cell_type": "code",
   "execution_count": 0,
   "metadata": {
    "colab": {
     "base_uri": "https://localhost:8080/",
     "height": 34
    },
    "colab_type": "code",
    "executionInfo": {
     "elapsed": 16633,
     "status": "ok",
     "timestamp": 1575488247802,
     "user": {
      "displayName": "Himanshu Bandoliya",
      "photoUrl": "",
      "userId": "03705328663112349542"
     },
     "user_tz": -330
    },
    "id": "ttJf1f7ON1Mt",
    "outputId": "6c02f3c9-6fb6-48ee-bb80-b23c76c9246a"
   },
   "outputs": [
    {
     "name": "stderr",
     "output_type": "stream",
     "text": [
      "100%|██████████| 109245/109245 [00:15<00:00, 6936.33it/s]\n"
     ]
    }
   ],
   "source": [
    "# Combining all the above stundents \n",
    "from tqdm import tqdm\n",
    "preprocessed_essays = []\n",
    "# tqdm is for printing the status bar\n",
    "for sentance in tqdm(project_data['essay'].values):\n",
    "    sent = decontracted(sentance)\n",
    "    sent = sent.replace('\\\\r', ' ')\n",
    "    sent = sent.replace('\\\\\"', ' ')\n",
    "    sent = sent.replace('\\\\n', ' ')\n",
    "    sent = re.sub('[^A-Za-z0-9]+', ' ', sent)\n",
    "    # https://gist.github.com/sebleier/554280\n",
    "    sent = ' '.join(e for e in sent.split())\n",
    "    preprocessed_essays.append(sent.lower().strip())"
   ]
  },
  {
   "cell_type": "markdown",
   "metadata": {
    "colab_type": "text",
    "id": "4AFlP-F-N1M0"
   },
   "source": [
    "<h2><font color='red'> 1.4 Preprocessing of `project_title`</font></h2>"
   ]
  },
  {
   "cell_type": "code",
   "execution_count": 0,
   "metadata": {
    "colab": {
     "base_uri": "https://localhost:8080/",
     "height": 34
    },
    "colab_type": "code",
    "executionInfo": {
     "elapsed": 3758,
     "status": "ok",
     "timestamp": 1575488270648,
     "user": {
      "displayName": "Himanshu Bandoliya",
      "photoUrl": "",
      "userId": "03705328663112349542"
     },
     "user_tz": -330
    },
    "id": "FCdq9z5FN1M1",
    "outputId": "2fe50bad-7506-44bc-e757-8b6e54747c8b"
   },
   "outputs": [
    {
     "name": "stderr",
     "output_type": "stream",
     "text": [
      "100%|██████████| 109245/109245 [00:02<00:00, 38612.46it/s]\n"
     ]
    }
   ],
   "source": [
    "# similarly you can preprocess the titles also\n",
    "preprocessed_titles = []\n",
    "for sentance in tqdm(project_data['project_title'].values):\n",
    "    sent = decontracted(sentance)\n",
    "    sent = re.sub('[^A-Za-z0-9]+', ' ', sent)\n",
    "    # https://gist.github.com/sebleier/554280\n",
    "    sent = ' '.join(e for e in sent.split() if e not in stopwords)\n",
    "    preprocessed_titles.append(sent.lower().strip())"
   ]
  },
  {
   "cell_type": "markdown",
   "metadata": {
    "colab_type": "text",
    "id": "js2WD9bON1M5"
   },
   "source": []
  },
  {
   "cell_type": "code",
   "execution_count": 0,
   "metadata": {
    "colab": {
     "base_uri": "https://localhost:8080/",
     "height": 136
    },
    "colab_type": "code",
    "executionInfo": {
     "elapsed": 1148,
     "status": "ok",
     "timestamp": 1575488271810,
     "user": {
      "displayName": "Himanshu Bandoliya",
      "photoUrl": "",
      "userId": "03705328663112349542"
     },
     "user_tz": -330
    },
    "id": "Kh3xw4fpN1M6",
    "outputId": "0c9848d4-28fb-4112-d240-9aa4d411c414"
   },
   "outputs": [
    {
     "data": {
      "text/plain": [
       "Index(['Unnamed: 0', 'id', 'teacher_id', 'teacher_prefix', 'school_state',\n",
       "       'project_submitted_datetime', 'project_grade_category', 'project_title',\n",
       "       'project_essay_1', 'project_essay_2', 'project_essay_3',\n",
       "       'project_essay_4', 'project_resource_summary',\n",
       "       'teacher_number_of_previously_posted_projects', 'project_is_approved',\n",
       "       'clean_categories', 'clean_subcategories', 'essay'],\n",
       "      dtype='object')"
      ]
     },
     "execution_count": 180,
     "metadata": {
      "tags": []
     },
     "output_type": "execute_result"
    }
   ],
   "source": [
    "project_data.columns"
   ]
  },
  {
   "cell_type": "markdown",
   "metadata": {
    "colab_type": "text",
    "id": "tLfdQa8hN1M9"
   },
   "source": [
    "we are going to consider\n",
    "\n",
    "       - school_state : categorical data\n",
    "       - clean_categories : categorical data\n",
    "       - clean_subcategories : categorical data\n",
    "       - project_grade_category : categorical data\n",
    "       - teacher_prefix : categorical data\n",
    "       \n",
    "       - project_title : text data\n",
    "       - text : text data\n",
    "       - project_resource_summary: text data (optinal)\n",
    "       \n",
    "       - quantity : numerical (optinal)\n",
    "       - teacher_number_of_previously_posted_projects : numerical\n",
    "       - price : numerical"
   ]
  },
  {
   "cell_type": "code",
   "execution_count": 0,
   "metadata": {
    "colab": {},
    "colab_type": "code",
    "id": "GavfhROYN1Nt"
   },
   "outputs": [],
   "source": [
    "price_data = resource_data.groupby('id').agg({'price':'sum', 'quantity':'sum'}).reset_index()\n",
    "project_data = pd.merge(project_data, price_data, on='id', how='left')"
   ]
  },
  {
   "cell_type": "code",
   "execution_count": 0,
   "metadata": {
    "colab": {
     "base_uri": "https://localhost:8080/",
     "height": 34
    },
    "colab_type": "code",
    "executionInfo": {
     "elapsed": 1437,
     "status": "ok",
     "timestamp": 1575488282693,
     "user": {
      "displayName": "Himanshu Bandoliya",
      "photoUrl": "",
      "userId": "03705328663112349542"
     },
     "user_tz": -330
    },
    "id": "qdNOyR5fN1Ny",
    "outputId": "e93acfdb-35df-4d27-ca22-a2bdc1ca358a"
   },
   "outputs": [
    {
     "name": "stdout",
     "output_type": "stream",
     "text": [
      "Mean : 298.1152448166964, Standard deviation : 367.49642545627506\n"
     ]
    }
   ],
   "source": [
    "# check this one: https://www.youtube.com/watch?v=0HOqOcln3Z4&t=530s\n",
    "# standardization sklearn: https://scikit-learn.org/stable/modules/generated/sklearn.preprocessing.StandardScaler.html\n",
    "from sklearn.preprocessing import StandardScaler\n",
    "\n",
    "# price_standardized = standardScalar.fit(project_data['price'].values)\n",
    "# this will rise the error\n",
    "# ValueError: Expected 2D array, got 1D array instead: array=[725.05 213.03 329.   ... 399.   287.73   5.5 ].\n",
    "# Reshape your data either using array.reshape(-1, 1)\n",
    "\n",
    "price_scalar = StandardScaler()\n",
    "price_scalar.fit(project_data['price'].values.reshape(-1,1)) # finding the mean and standard deviation of this data\n",
    "print(f\"Mean : {price_scalar.mean_[0]}, Standard deviation : {np.sqrt(price_scalar.var_[0])}\")\n",
    "\n",
    "# Now standardize the data with above maen and variance.\n",
    "price_standardized = price_scalar.transform(project_data['price'].values.reshape(-1, 1))"
   ]
  },
  {
   "cell_type": "code",
   "execution_count": 0,
   "metadata": {
    "colab": {
     "base_uri": "https://localhost:8080/",
     "height": 136
    },
    "colab_type": "code",
    "executionInfo": {
     "elapsed": 1193,
     "status": "ok",
     "timestamp": 1575488287585,
     "user": {
      "displayName": "Himanshu Bandoliya",
      "photoUrl": "",
      "userId": "03705328663112349542"
     },
     "user_tz": -330
    },
    "id": "yGDhSrheN1N0",
    "outputId": "d0d35f4d-0056-4bfc-d2c6-b49d79f1861e"
   },
   "outputs": [
    {
     "data": {
      "text/plain": [
       "array([[-0.39052147],\n",
       "       [ 0.00240752],\n",
       "       [ 0.5952024 ],\n",
       "       ...,\n",
       "       [-0.1582471 ],\n",
       "       [-0.61242839],\n",
       "       [-0.51215531]])"
      ]
     },
     "execution_count": 184,
     "metadata": {
      "tags": []
     },
     "output_type": "execute_result"
    }
   ],
   "source": [
    "price_standardized"
   ]
  },
  {
   "cell_type": "code",
   "execution_count": 0,
   "metadata": {
    "colab": {},
    "colab_type": "code",
    "id": "BcbMF75O05jw"
   },
   "outputs": [],
   "source": [
    "cleaned_data=project_data.copy()\n",
    "# Adding preprocessed_essays and titles to the dataframe\n",
    "cleaned_data['cleaned_essay']=preprocessed_essays\n",
    "cleaned_data['cleaned_titles']=preprocessed_titles\n",
    "cleaned_data.drop(['project_title','project_essay_1','project_essay_2','project_essay_3','project_essay_4'],axis=1,inplace=True)\n",
    "y=cleaned_data['project_is_approved']\n",
    "cleaned_data.drop(['project_is_approved'],axis=1, inplace=True)\n",
    "x=cleaned_data"
   ]
  },
  {
   "cell_type": "code",
   "execution_count": 0,
   "metadata": {
    "colab": {},
    "colab_type": "code",
    "id": "ab7iwcS70_Xc"
   },
   "outputs": [],
   "source": [
    "from sklearn.model_selection import train_test_split\n",
    "x_train1,x_test,y_train1,y_test=train_test_split(x,y,test_size=0.2,stratify=y)\n",
    "x_train,x_cross,y_train,y_cv=train_test_split(x_train1,y_train1,test_size=0.2,stratify=y_train1)"
   ]
  },
  {
   "cell_type": "code",
   "execution_count": 0,
   "metadata": {
    "colab": {
     "base_uri": "https://localhost:8080/",
     "height": 68
    },
    "colab_type": "code",
    "executionInfo": {
     "elapsed": 646,
     "status": "ok",
     "timestamp": 1575488293293,
     "user": {
      "displayName": "Himanshu Bandoliya",
      "photoUrl": "",
      "userId": "03705328663112349542"
     },
     "user_tz": -330
    },
    "id": "U8WS4nKq1Aro",
    "outputId": "05719429-6cf8-4b4d-d6c3-fca3519f1507"
   },
   "outputs": [
    {
     "name": "stdout",
     "output_type": "stream",
     "text": [
      "(69916, 16) (69916,)\n",
      "(17480, 16) (17480,)\n",
      "(21849, 16) (21849,)\n"
     ]
    }
   ],
   "source": [
    "print(x_train.shape, y_train.shape)\n",
    "print(x_cross.shape, y_cv.shape)\n",
    "print(x_test.shape, y_test.shape)"
   ]
  },
  {
   "cell_type": "code",
   "execution_count": 0,
   "metadata": {
    "colab": {
     "base_uri": "https://localhost:8080/",
     "height": 34
    },
    "colab_type": "code",
    "executionInfo": {
     "elapsed": 1088,
     "status": "ok",
     "timestamp": 1575488296303,
     "user": {
      "displayName": "Himanshu Bandoliya",
      "photoUrl": "",
      "userId": "03705328663112349542"
     },
     "user_tz": -330
    },
    "id": "oTkYM8C2Nfhf",
    "outputId": "712c9c1c-9c9b-446b-94cb-c20a2710f835"
   },
   "outputs": [
    {
     "data": {
      "text/plain": [
       "array([1, 1, 1, ..., 0, 1, 0])"
      ]
     },
     "execution_count": 188,
     "metadata": {
      "tags": []
     },
     "output_type": "execute_result"
    }
   ],
   "source": [
    "y_train.values"
   ]
  },
  {
   "cell_type": "code",
   "execution_count": 0,
   "metadata": {
    "colab": {},
    "colab_type": "code",
    "id": "RJQfT3_zpKbt"
   },
   "outputs": [],
   "source": [
    "#https://stackoverflow.com/questions/21057621/sklearn-labelencoder-with-never-seen-before-values\n",
    "\n",
    "class LabelEncoderExt(object):\n",
    "    def __init__(self):\n",
    "        \"\"\"\n",
    "        It differs from LabelEncoder by handling new classes and providing a value for it [Unknown]\n",
    "        Unknown will be added in fit and transform will take care of new item. It gives unknown class id\n",
    "        \"\"\"\n",
    "        self.label_encoder = LabelEncoder()\n",
    "        # self.classes_ = self.label_encoder.classes_\n",
    "\n",
    "    def fit(self, data_list):\n",
    "        \"\"\"\n",
    "        This will fit the encoder for all the unique values and introduce unknown value\n",
    "        :param data_list: A list of string\n",
    "        :return: self\n",
    "        \"\"\"\n",
    "        self.label_encoder = self.label_encoder.fit(list(data_list) + ['Unknown'])\n",
    "        self.classes_ = self.label_encoder.classes_\n",
    "\n",
    "        return self\n",
    "\n",
    "    def transform(self, data_list):\n",
    "        \"\"\"\n",
    "        This will transform the data_list to id list where the new values get assigned to Unknown class\n",
    "        :param data_list:\n",
    "        :return:\n",
    "        \"\"\"\n",
    "        new_data_list = list(data_list)\n",
    "        for unique_item in np.unique(data_list):\n",
    "            if unique_item not in self.label_encoder.classes_:\n",
    "                new_data_list = ['Unknown' if x==unique_item else x for x in new_data_list]\n",
    "\n",
    "        return self.label_encoder.transform(new_data_list)\n"
   ]
  },
  {
   "cell_type": "code",
   "execution_count": 0,
   "metadata": {
    "colab": {},
    "colab_type": "code",
    "id": "h7zr4ycpC2qh"
   },
   "outputs": [],
   "source": [
    "x_train['teacher_prefix'].fillna(value=\"Mrs.\", inplace=True)\n",
    "x_cross['teacher_prefix'].fillna(value=\"Mrs.\", inplace=True)\n",
    "x_test['teacher_prefix'].fillna(value=\"Mrs.\", inplace=True)\n",
    "vectorizer = LabelEncoderExt()\n",
    "vectorizer.fit(x_train['teacher_prefix'].values)\n",
    "x_train_teacher_prefix_ohe = vectorizer.transform(x_train['teacher_prefix'].values)\n",
    "x_cv_teacher_prefix_ohe = vectorizer.transform(x_cross['teacher_prefix'].values)\n",
    "x_test_teacher_prefix_ohe = vectorizer.transform(x_test['teacher_prefix'].values)\n",
    "\n",
    "vectorizer = LabelEncoderExt()\n",
    "vectorizer.fit(x_train['school_state'].values)\n",
    "x_train_state_ohe = vectorizer.transform(x_train['school_state'].values)\n",
    "x_cv_state_ohe = vectorizer.transform(x_cross['school_state'].values)\n",
    "x_test_state_ohe = vectorizer.transform(x_test['school_state'].values)\n",
    "\n",
    "vectorizer = LabelEncoderExt()\n",
    "vectorizer.fit(['grades_3_5', 'grades_6_8', 'grades_9_12', 'grades_prek_2'])\n",
    "x_train_grade_ohe = vectorizer.transform(x_train['project_grade_category'].values)\n",
    "x_cv_grade_ohe = vectorizer.transform(x_cross['project_grade_category'].values)\n",
    "x_test_grade_ohe = vectorizer.transform(x_test['project_grade_category'].values)\n",
    "\n",
    "vectorizer = LabelEncoderExt()\n",
    "vectorizer.fit(x_train['clean_categories'].values)\n",
    "x_train_cat_ohe = vectorizer.transform(x_train['clean_categories'].values)\n",
    "x_cv_cat_ohe = vectorizer.transform(x_cross['clean_categories'].values)\n",
    "x_test_cat_ohe = vectorizer.transform(x_test['clean_categories'].values)\n",
    "\n",
    "vectorizer = LabelEncoderExt()\n",
    "vectorizer.fit(x_train['clean_subcategories'].values)\n",
    "x_train_scat_ohe = vectorizer.transform(x_train['clean_subcategories'].values)\n",
    "x_cv_scat_ohe = vectorizer.transform(x_cross['clean_subcategories'].values)\n",
    "x_test_scat_ohe = vectorizer.transform(x_test['clean_subcategories'].values)\n"
   ]
  },
  {
   "cell_type": "code",
   "execution_count": 0,
   "metadata": {
    "colab": {},
    "colab_type": "code",
    "id": "XR1pg-m3jbnS"
   },
   "outputs": [],
   "source": [
    "#https://medium.com/@davidheffernan_99410/an-introduction-to-using-categorical-embeddings-ee686ed7e7f9\n",
    "cat_vars = [\"teacher_prefix\",\"school_state\",\"project_grade_category\",\"clean_categories\",\"clean_subcategories\"]\n",
    "cat_sizes = {}\n",
    "cat_embsizes = {}\n",
    "for cat in cat_vars:\n",
    "    cat_sizes[cat] = x_train[cat].nunique()\n",
    "    cat_embsizes[cat] = min(50, cat_sizes[cat]//2+1)"
   ]
  },
  {
   "cell_type": "code",
   "execution_count": 0,
   "metadata": {
    "colab": {},
    "colab_type": "code",
    "id": "B4hrmyduk0YA"
   },
   "outputs": [],
   "source": [
    "from keras.layers import Reshape"
   ]
  },
  {
   "cell_type": "code",
   "execution_count": 0,
   "metadata": {
    "colab": {
     "base_uri": "https://localhost:8080/",
     "height": 272
    },
    "colab_type": "code",
    "executionInfo": {
     "elapsed": 1289,
     "status": "ok",
     "timestamp": 1575477709065,
     "user": {
      "displayName": "Himanshu Bandoliya",
      "photoUrl": "",
      "userId": "03705328663112349542"
     },
     "user_tz": -330
    },
    "id": "hJM8JNoMDFOC",
    "outputId": "87dffadd-856b-4781-d92b-a1592c1b9776"
   },
   "outputs": [
    {
     "name": "stdout",
     "output_type": "stream",
     "text": [
      "After normalizing price\n",
      "(69916, 1) (69916,)\n",
      "(17480, 1) (17480,)\n",
      "(21849, 1) (21849,)\n",
      "========================================================\n",
      "After normalizing the quantity\n",
      "(69916, 1) (69916,)\n",
      "(17480, 1) (17480,)\n",
      "(21849, 1) (21849,)\n",
      "========================================================\n",
      "After normalizing the teacher_number_of_previously_posted_projects\n",
      "(69916, 1) (69916,)\n",
      "(17480, 1) (17480,)\n",
      "(21849, 1) (21849,)\n",
      "========================================================\n"
     ]
    }
   ],
   "source": [
    "from sklearn.preprocessing import Normalizer\n",
    "normalizer = Normalizer()\n",
    "normalizer.fit(x_train['price'].values.reshape(1,-1))\n",
    "\n",
    "x_train_price_norm = normalizer.transform(x_train['price'].values.reshape(1,-1)).T\n",
    "x_cv_price_norm = normalizer.transform(x_cross['price'].values.reshape(1,-1)).T\n",
    "x_test_price_norm = normalizer.transform(x_test['price'].values.reshape(1,-1)).T\n",
    "\n",
    "print(\"After normalizing price\")\n",
    "print(x_train_price_norm.shape, y_train.shape)\n",
    "print(x_cv_price_norm.shape, y_cv.shape)\n",
    "print(x_test_price_norm.shape, y_test.shape)\n",
    "\n",
    "print(\"========================================================\")\n",
    "normalizer = Normalizer()\n",
    "normalizer.fit(x_train['quantity'].values.reshape(1,-1))\n",
    "\n",
    "x_train_qty_norm = normalizer.transform(x_train['quantity'].values.reshape(1,-1)).T\n",
    "x_cv_qty_norm = normalizer.transform(x_cross['quantity'].values.reshape(1,-1)).T\n",
    "x_test_qty_norm = normalizer.transform(x_test['quantity'].values.reshape(1,-1)).T\n",
    "print(\"After normalizing the quantity\")\n",
    "print(x_train_qty_norm.shape, y_train.shape)\n",
    "print(x_cv_qty_norm.shape, y_cv.shape)\n",
    "print(x_test_qty_norm.shape, y_test.shape)\n",
    "print(\"========================================================\")\n",
    "\n",
    "normalizer = Normalizer()\n",
    "normalizer.fit(x_train['teacher_number_of_previously_posted_projects'].values.reshape(1,-1))\n",
    "\n",
    "x_train_tpp_norm = normalizer.transform(x_train['teacher_number_of_previously_posted_projects'].values.reshape(1,-1)).T\n",
    "x_cv_tpp_norm = normalizer.transform(x_cross['teacher_number_of_previously_posted_projects'].values.reshape(1,-1)).T\n",
    "x_test_tpp_norm = normalizer.transform(x_test['teacher_number_of_previously_posted_projects'].values.reshape(1,-1)).T\n",
    "print(\"After normalizing the teacher_number_of_previously_posted_projects\")\n",
    "print(x_train_tpp_norm.shape, y_train.shape)\n",
    "print(x_cv_tpp_norm.shape, y_cv.shape)\n",
    "print(x_test_tpp_norm.shape, y_test.shape)\n",
    "\n",
    "print(\"========================================================\")\n",
    "\n"
   ]
  },
  {
   "cell_type": "markdown",
   "metadata": {
    "colab_type": "text",
    "id": "AgRfG82TgyVG"
   },
   "source": [
    "### Assignment 1"
   ]
  },
  {
   "cell_type": "code",
   "execution_count": 0,
   "metadata": {
    "colab": {},
    "colab_type": "code",
    "id": "wLRfNyJ6DrAg"
   },
   "outputs": [],
   "source": [
    "rem_input_train = np.concatenate((x_train['quantity'].values.reshape(-1,1),x_train['price'].values.reshape(-1,1),x_train['teacher_number_of_previously_posted_projects'].values.reshape(-1,1)), axis=1)\n",
    "rem_input_cv = np.concatenate((x_cross['quantity'].values.reshape(-1,1),x_cross['price'].values.reshape(-1,1),x_cross['teacher_number_of_previously_posted_projects'].values.reshape(-1,1)), axis=1)\n",
    "rem_input_test = np.concatenate((x_test['quantity'].values.reshape(-1,1),x_test['price'].values.reshape(-1,1),x_test['teacher_number_of_previously_posted_projects'].values.reshape(-1,1)), axis=1)"
   ]
  },
  {
   "cell_type": "code",
   "execution_count": 0,
   "metadata": {
    "colab": {
     "base_uri": "https://localhost:8080/",
     "height": 34
    },
    "colab_type": "code",
    "executionInfo": {
     "elapsed": 1137,
     "status": "ok",
     "timestamp": 1575477716363,
     "user": {
      "displayName": "Himanshu Bandoliya",
      "photoUrl": "",
      "userId": "03705328663112349542"
     },
     "user_tz": -330
    },
    "id": "MYCpj10vSbqb",
    "outputId": "32ab203a-5a91-4c2f-ca69-439be7821a97"
   },
   "outputs": [
    {
     "data": {
      "text/plain": [
       "(69916, 3)"
      ]
     },
     "execution_count": 36,
     "metadata": {
      "tags": []
     },
     "output_type": "execute_result"
    }
   ],
   "source": [
    "rem_input_train.shape"
   ]
  },
  {
   "cell_type": "code",
   "execution_count": 0,
   "metadata": {
    "colab": {
     "base_uri": "https://localhost:8080/",
     "height": 34
    },
    "colab_type": "code",
    "executionInfo": {
     "elapsed": 1023,
     "status": "ok",
     "timestamp": 1575477718379,
     "user": {
      "displayName": "Himanshu Bandoliya",
      "photoUrl": "",
      "userId": "03705328663112349542"
     },
     "user_tz": -330
    },
    "id": "6WgQqHetSbqe",
    "outputId": "654aeed4-51a4-44a0-c3d3-90154eb3e261"
   },
   "outputs": [
    {
     "data": {
      "text/plain": [
       "(17480, 3)"
      ]
     },
     "execution_count": 37,
     "metadata": {
      "tags": []
     },
     "output_type": "execute_result"
    }
   ],
   "source": [
    "rem_input_cv.shape"
   ]
  },
  {
   "cell_type": "code",
   "execution_count": 0,
   "metadata": {
    "colab": {
     "base_uri": "https://localhost:8080/",
     "height": 34
    },
    "colab_type": "code",
    "executionInfo": {
     "elapsed": 1031,
     "status": "ok",
     "timestamp": 1575477719785,
     "user": {
      "displayName": "Himanshu Bandoliya",
      "photoUrl": "",
      "userId": "03705328663112349542"
     },
     "user_tz": -330
    },
    "id": "kd6GTqXmSbqg",
    "outputId": "9187e60f-76bb-4db8-928c-1ce31f33dd82"
   },
   "outputs": [
    {
     "data": {
      "text/plain": [
       "(21849, 3)"
      ]
     },
     "execution_count": 38,
     "metadata": {
      "tags": []
     },
     "output_type": "execute_result"
    }
   ],
   "source": [
    "rem_input_test.shape"
   ]
  },
  {
   "cell_type": "code",
   "execution_count": 0,
   "metadata": {
    "colab": {},
    "colab_type": "code",
    "id": "I7og2gW9mQRz"
   },
   "outputs": [],
   "source": [
    "mms = StandardScaler().fit(rem_input_train)\n",
    "rem_input_train_norm = mms.transform(rem_input_train)\n",
    "rem_input_cv_norm = mms.transform(rem_input_cv)\n",
    "rem_input_test_norm = mms.transform(rem_input_test)"
   ]
  },
  {
   "cell_type": "code",
   "execution_count": 0,
   "metadata": {
    "colab": {},
    "colab_type": "code",
    "id": "rP7xC_RKlhCt"
   },
   "outputs": [],
   "source": [
    "y_binary_train = to_categorical(y_train)\n",
    "y_binary_cv = to_categorical(y_cv)\n",
    "y_binary_test = to_categorical(y_test)"
   ]
  },
  {
   "cell_type": "code",
   "execution_count": 0,
   "metadata": {
    "colab": {
     "base_uri": "https://localhost:8080/",
     "height": 136
    },
    "colab_type": "code",
    "executionInfo": {
     "elapsed": 1230,
     "status": "ok",
     "timestamp": 1575477726593,
     "user": {
      "displayName": "Himanshu Bandoliya",
      "photoUrl": "",
      "userId": "03705328663112349542"
     },
     "user_tz": -330
    },
    "id": "YlaiY0RrNfh5",
    "outputId": "ba5ca71d-ada0-4b14-e76f-657a86a8f919"
   },
   "outputs": [
    {
     "data": {
      "text/plain": [
       "array([[1., 0.],\n",
       "       [0., 1.],\n",
       "       [0., 1.],\n",
       "       ...,\n",
       "       [0., 1.],\n",
       "       [0., 1.],\n",
       "       [0., 1.]], dtype=float32)"
      ]
     },
     "execution_count": 41,
     "metadata": {
      "tags": []
     },
     "output_type": "execute_result"
    }
   ],
   "source": [
    "y_binary_train"
   ]
  },
  {
   "cell_type": "markdown",
   "metadata": {
    "colab_type": "text",
    "id": "4S-KtGNihXTA"
   },
   "source": [
    "* Encoding Text"
   ]
  },
  {
   "cell_type": "code",
   "execution_count": 0,
   "metadata": {
    "colab": {},
    "colab_type": "code",
    "id": "7Fti4B85mLLd"
   },
   "outputs": [],
   "source": [
    "max_length=600"
   ]
  },
  {
   "cell_type": "code",
   "execution_count": 0,
   "metadata": {
    "colab": {},
    "colab_type": "code",
    "id": "tSOf3DG51oJh"
   },
   "outputs": [],
   "source": [
    "#https://machinelearningmastery.com/use-word-embedding-layers-deep-learning-keras/\n",
    "def padded(encoded_docs):  \n",
    "    max_length = 600\n",
    "    padded_docs = pad_sequences(encoded_docs, maxlen=max_length, padding='post')\n",
    "    return padded_docs"
   ]
  },
  {
   "cell_type": "code",
   "execution_count": 0,
   "metadata": {
    "colab": {},
    "colab_type": "code",
    "id": "JWf0fcH117pc"
   },
   "outputs": [],
   "source": [
    "#https://stackoverflow.com/posts/51956230/revisions\n",
    "t = Tokenizer()\n",
    "t.fit_on_texts(x_train.cleaned_essay)\n",
    "vocab_size = len(t.word_index) + 1\n",
    "# integer encode the documents\n",
    "encoded_docs = t.texts_to_sequences(x_train.cleaned_essay)\n",
    "essay_padded_train = padded(encoded_docs)"
   ]
  },
  {
   "cell_type": "code",
   "execution_count": 0,
   "metadata": {
    "colab": {},
    "colab_type": "code",
    "id": "WY0heNTSTpJz"
   },
   "outputs": [],
   "source": [
    "\n",
    "#t = Tokenizer()\n",
    "#t.fit_on_texts(x_cross.cleaned_essay)\n",
    "#vocab_size = len(t.word_index) + 1\n",
    "# integer encode the documents\n",
    "encoded_docs = t.texts_to_sequences(x_cross.cleaned_essay)\n",
    "essay_padded_cv = padded(encoded_docs)"
   ]
  },
  {
   "cell_type": "code",
   "execution_count": 0,
   "metadata": {
    "colab": {},
    "colab_type": "code",
    "id": "SIxgdDp2TwqF"
   },
   "outputs": [],
   "source": [
    "\n",
    "#t = Tokenizer()\n",
    "#t.fit_on_texts(x_test.cleaned_essay)\n",
    "#vocab_size = len(t.word_index) + 1\n",
    "# integer encode the documents\n",
    "encoded_docs = t.texts_to_sequences(x_test.cleaned_essay)\n",
    "essay_padded_test = padded(encoded_docs)"
   ]
  },
  {
   "cell_type": "code",
   "execution_count": 0,
   "metadata": {
    "colab": {
     "base_uri": "https://localhost:8080/",
     "height": 68
    },
    "colab_type": "code",
    "executionInfo": {
     "elapsed": 1222,
     "status": "ok",
     "timestamp": 1575477775185,
     "user": {
      "displayName": "Himanshu Bandoliya",
      "photoUrl": "",
      "userId": "03705328663112349542"
     },
     "user_tz": -330
    },
    "id": "NqChg4K5jPj1",
    "outputId": "434be4ca-9127-4cf4-93c4-86c597555f4e"
   },
   "outputs": [
    {
     "name": "stdout",
     "output_type": "stream",
     "text": [
      "encoded train data shape (69916, 600)\n",
      "encoded cv data shape (17480, 600)\n",
      "encoded cv data shape (21849, 600)\n"
     ]
    }
   ],
   "source": [
    "\n",
    "print(\"encoded train data shape\",essay_padded_train.shape)\n",
    "print(\"encoded cv data shape\",essay_padded_cv.shape)\n",
    "print(\"encoded cv data shape\",essay_padded_test.shape)"
   ]
  },
  {
   "cell_type": "code",
   "execution_count": 0,
   "metadata": {
    "colab": {},
    "colab_type": "code",
    "id": "0saGOB079wJw"
   },
   "outputs": [],
   "source": [
    "from numpy import asarray"
   ]
  },
  {
   "cell_type": "code",
   "execution_count": 0,
   "metadata": {
    "colab": {},
    "colab_type": "code",
    "id": "OjLBcRpB9V5D"
   },
   "outputs": [],
   "source": [
    "embeddings_index = dict()\n",
    "f = open('/content/drive/My Drive/Colab Notebooks/Data/glove.42B.300d.txt','r',encoding=\"utf8\")#f = open(gloveFile,'r', encoding=\"utf8\")\n",
    "for line in f:\n",
    "    values = line.split()\n",
    "    word = values[0]\n",
    "    coefs = asarray(values[1:], dtype='float32')\n",
    "    embeddings_index[word] = coefs\n",
    "f.close()"
   ]
  },
  {
   "cell_type": "code",
   "execution_count": 0,
   "metadata": {
    "colab": {},
    "colab_type": "code",
    "id": "3RBGjncu-JrY"
   },
   "outputs": [],
   "source": [
    "\n",
    "embedding_matrix = zeros((vocab_size, 300))\n",
    "for word, i in t.word_index.items():\n",
    "    embedding_vector = embeddings_index.get(word)\n",
    "    if embedding_vector is not None:\n",
    "        embedding_matrix[i] = embedding_vector"
   ]
  },
  {
   "cell_type": "code",
   "execution_count": 0,
   "metadata": {
    "colab": {
     "base_uri": "https://localhost:8080/",
     "height": 34
    },
    "colab_type": "code",
    "executionInfo": {
     "elapsed": 959,
     "status": "ok",
     "timestamp": 1575488473544,
     "user": {
      "displayName": "Himanshu Bandoliya",
      "photoUrl": "",
      "userId": "03705328663112349542"
     },
     "user_tz": -330
    },
    "id": "LeGCl5k4jnfs",
    "outputId": "24cdf0dd-534e-4901-c734-63da95c7a7ba"
   },
   "outputs": [
    {
     "name": "stdout",
     "output_type": "stream",
     "text": [
      "embedding matrix shape (47329, 300)\n"
     ]
    }
   ],
   "source": [
    "print(\"embedding matrix shape\",embedding_matrix.shape)"
   ]
  },
  {
   "cell_type": "code",
   "execution_count": 0,
   "metadata": {
    "colab": {},
    "colab_type": "code",
    "id": "ib1S0dHDNfiM"
   },
   "outputs": [],
   "source": [
    "\n",
    "from tensorflow.keras import *\n",
    "from tensorboardcolab import *\n",
    "from keras.regularizers import l2"
   ]
  },
  {
   "cell_type": "code",
   "execution_count": 0,
   "metadata": {
    "colab": {
     "base_uri": "https://localhost:8080/",
     "height": 139
    },
    "colab_type": "code",
    "executionInfo": {
     "elapsed": 1182,
     "status": "ok",
     "timestamp": 1575478032572,
     "user": {
      "displayName": "Himanshu Bandoliya",
      "photoUrl": "",
      "userId": "03705328663112349542"
     },
     "user_tz": -330
    },
    "id": "7HrX-hDVNfiO",
    "outputId": "79e2f0ad-e732-451a-b3a9-263c3a6e73f9"
   },
   "outputs": [
    {
     "name": "stdout",
     "output_type": "stream",
     "text": [
      "WARNING:tensorflow:From /usr/local/lib/python3.6/dist-packages/keras/backend/tensorflow_backend.py:107: The name tf.reset_default_graph is deprecated. Please use tf.compat.v1.reset_default_graph instead.\n",
      "\n",
      "WARNING:tensorflow:From /usr/local/lib/python3.6/dist-packages/keras/backend/tensorflow_backend.py:111: The name tf.placeholder_with_default is deprecated. Please use tf.compat.v1.placeholder_with_default instead.\n",
      "\n",
      "WARNING:tensorflow:From /usr/local/lib/python3.6/dist-packages/keras/backend/tensorflow_backend.py:66: The name tf.get_default_graph is deprecated. Please use tf.compat.v1.get_default_graph instead.\n",
      "\n"
     ]
    }
   ],
   "source": [
    "import keras.backend as K\n",
    "K.clear_session()"
   ]
  },
  {
   "cell_type": "code",
   "execution_count": 0,
   "metadata": {
    "colab": {},
    "colab_type": "code",
    "id": "eStAoerQl_r9"
   },
   "outputs": [],
   "source": [
    "#https://medium.com/@davidheffernan_99410/an-introduction-to-using-categorical-embeddings-ee686ed7e7f9\n",
    "cat_vars = [\"teacher_prefix\",\"school_state\",\"project_grade_category\",\"clean_categories\",\"clean_subcategories\"]\n",
    "cat_sizes = {}\n",
    "cat_embsizes = {}\n",
    "for cat in cat_vars:\n",
    "    cat_sizes[cat] = x_train[cat].nunique()\n",
    "    cat_embsizes[cat] = min(50, cat_sizes[cat]//2+1)"
   ]
  },
  {
   "cell_type": "code",
   "execution_count": 0,
   "metadata": {
    "colab": {},
    "colab_type": "code",
    "id": "nu5v9Q1Ol_sH"
   },
   "outputs": [],
   "source": [
    "from tensorflow.keras.layers import Reshape,Concatenate, Dropout"
   ]
  },
  {
   "cell_type": "code",
   "execution_count": 0,
   "metadata": {
    "colab": {},
    "colab_type": "code",
    "id": "Qlcrcu7OmEpv"
   },
   "outputs": [],
   "source": [
    "ins = []\n",
    "concat = []"
   ]
  },
  {
   "cell_type": "code",
   "execution_count": 0,
   "metadata": {
    "colab": {
     "base_uri": "https://localhost:8080/",
     "height": 139
    },
    "colab_type": "code",
    "executionInfo": {
     "elapsed": 6258,
     "status": "ok",
     "timestamp": 1575478051103,
     "user": {
      "displayName": "Himanshu Bandoliya",
      "photoUrl": "",
      "userId": "03705328663112349542"
     },
     "user_tz": -330
    },
    "id": "9pn9oauNmGIK",
    "outputId": "b71b5778-0fbc-4f8c-c5cd-c02ae56caa58"
   },
   "outputs": [
    {
     "name": "stdout",
     "output_type": "stream",
     "text": [
      "WARNING:tensorflow:From /usr/local/lib/python3.6/dist-packages/tensorflow_core/python/keras/initializers.py:119: calling RandomUniform.__init__ (from tensorflow.python.ops.init_ops) with dtype is deprecated and will be removed in a future version.\n",
      "Instructions for updating:\n",
      "Call initializer instance with the dtype argument instead of passing it to the constructor\n",
      "WARNING:tensorflow:From /usr/local/lib/python3.6/dist-packages/tensorflow_core/python/ops/resource_variable_ops.py:1630: calling BaseResourceVariable.__init__ (from tensorflow.python.ops.resource_variable_ops) with constraint is deprecated and will be removed in a future version.\n",
      "Instructions for updating:\n",
      "If using Keras pass *_constraint arguments to layers.\n"
     ]
    }
   ],
   "source": [
    "text_input = Input(shape=(max_length,), name = \"text_input\")\n",
    "ins.append(text_input)\n",
    "e1 = Embedding(vocab_size, 300, weights=[embedding_matrix], input_length=max_length,trainable=False)(text_input)\n",
    "l1= LSTM(128,kernel_initializer='glorot_normal',recurrent_dropout=0.5,kernel_regularizer=l2(0.01),return_sequences=True)(e1)\n",
    "f1= Flatten()(l1)\n",
    "concat.append(f1)"
   ]
  },
  {
   "cell_type": "code",
   "execution_count": 0,
   "metadata": {
    "colab": {},
    "colab_type": "code",
    "id": "yUsAhXnil_sL"
   },
   "outputs": [],
   "source": [
    "\n",
    "for cat in cat_vars:\n",
    "    x = Input((1,), name=cat)\n",
    "    ins.append(x)\n",
    "    x = Embedding(cat_sizes[cat]+1, cat_embsizes[cat], input_length=1)(x)\n",
    "    x = Flatten()(x)\n",
    "    concat.append(x)"
   ]
  },
  {
   "cell_type": "code",
   "execution_count": 0,
   "metadata": {
    "colab": {},
    "colab_type": "code",
    "id": "tmWkl0dJmdHJ"
   },
   "outputs": [],
   "source": [
    "rem_input_layer =  Input(shape=(3,), name=\"rem_input_layer\")\n",
    "ins.append(rem_input_layer)\n",
    "rem_input_dense = Dense(64, activation='relu',kernel_initializer='glorot_normal',kernel_regularizer=l2(0.01))(rem_input_layer)\n",
    "concat.append(rem_input_dense)"
   ]
  },
  {
   "cell_type": "code",
   "execution_count": 0,
   "metadata": {
    "colab": {},
    "colab_type": "code",
    "id": "2NLwkKSE2sxL"
   },
   "outputs": [],
   "source": [
    "x = Concatenate()(concat)\n",
    "x=BatchNormalization()(x)\n",
    "\n",
    "x= Dense(256,kernel_initializer='glorot_normal',kernel_regularizer=l2(0.01))(x)\n",
    "x= Dropout(0.6)(x)\n",
    "x= Dense(128,kernel_initializer='glorot_normal',kernel_regularizer=l2(0.01))(x)\n",
    "x= Dropout(0.5)(x)\n",
    "x= Dense(64,kernel_initializer='glorot_normal',kernel_regularizer=l2(0.01))(x)\n",
    "x= Dropout(0.5)(x)\n",
    "x= Dense(32,kernel_initializer='glorot_normal',kernel_regularizer=l2(0.01))(x)\n",
    "x= Dropout(0.5)(x)\n",
    "x= Dense(16,activation='relu',kernel_initializer='glorot_normal',kernel_regularizer=l2(0.02))(x)\n",
    "\n",
    "output=Dense(2, activation='softmax')(x)\n",
    "model_l = Model(inputs=ins, outputs=output)"
   ]
  },
  {
   "cell_type": "code",
   "execution_count": 0,
   "metadata": {
    "colab": {
     "base_uri": "https://localhost:8080/",
     "height": 1000
    },
    "colab_type": "code",
    "executionInfo": {
     "elapsed": 1298,
     "status": "ok",
     "timestamp": 1575478062422,
     "user": {
      "displayName": "Himanshu Bandoliya",
      "photoUrl": "",
      "userId": "03705328663112349542"
     },
     "user_tz": -330
    },
    "id": "_fsEVjs-yIu6",
    "outputId": "ceac6428-a148-4908-826a-200c9c5f0ed3"
   },
   "outputs": [
    {
     "name": "stdout",
     "output_type": "stream",
     "text": [
      "Model: \"model\"\n",
      "__________________________________________________________________________________________________\n",
      "Layer (type)                    Output Shape         Param #     Connected to                     \n",
      "==================================================================================================\n",
      "text_input (InputLayer)         [(None, 600)]        0                                            \n",
      "__________________________________________________________________________________________________\n",
      "embedding (Embedding)           (None, 600, 300)     14184000    text_input[0][0]                 \n",
      "__________________________________________________________________________________________________\n",
      "teacher_prefix (InputLayer)     [(None, 1)]          0                                            \n",
      "__________________________________________________________________________________________________\n",
      "school_state (InputLayer)       [(None, 1)]          0                                            \n",
      "__________________________________________________________________________________________________\n",
      "project_grade_category (InputLa [(None, 1)]          0                                            \n",
      "__________________________________________________________________________________________________\n",
      "clean_categories (InputLayer)   [(None, 1)]          0                                            \n",
      "__________________________________________________________________________________________________\n",
      "clean_subcategories (InputLayer [(None, 1)]          0                                            \n",
      "__________________________________________________________________________________________________\n",
      "lstm (LSTM)                     (None, 600, 128)     219648      embedding[0][0]                  \n",
      "__________________________________________________________________________________________________\n",
      "embedding_1 (Embedding)         (None, 1, 3)         18          teacher_prefix[0][0]             \n",
      "__________________________________________________________________________________________________\n",
      "embedding_2 (Embedding)         (None, 1, 26)        1352        school_state[0][0]               \n",
      "__________________________________________________________________________________________________\n",
      "embedding_3 (Embedding)         (None, 1, 3)         15          project_grade_category[0][0]     \n",
      "__________________________________________________________________________________________________\n",
      "embedding_4 (Embedding)         (None, 1, 26)        1352        clean_categories[0][0]           \n",
      "__________________________________________________________________________________________________\n",
      "embedding_5 (Embedding)         (None, 1, 50)        19700       clean_subcategories[0][0]        \n",
      "__________________________________________________________________________________________________\n",
      "rem_input_layer (InputLayer)    [(None, 3)]          0                                            \n",
      "__________________________________________________________________________________________________\n",
      "flatten (Flatten)               (None, 76800)        0           lstm[0][0]                       \n",
      "__________________________________________________________________________________________________\n",
      "flatten_1 (Flatten)             (None, 3)            0           embedding_1[0][0]                \n",
      "__________________________________________________________________________________________________\n",
      "flatten_2 (Flatten)             (None, 26)           0           embedding_2[0][0]                \n",
      "__________________________________________________________________________________________________\n",
      "flatten_3 (Flatten)             (None, 3)            0           embedding_3[0][0]                \n",
      "__________________________________________________________________________________________________\n",
      "flatten_4 (Flatten)             (None, 26)           0           embedding_4[0][0]                \n",
      "__________________________________________________________________________________________________\n",
      "flatten_5 (Flatten)             (None, 50)           0           embedding_5[0][0]                \n",
      "__________________________________________________________________________________________________\n",
      "dense (Dense)                   (None, 64)           256         rem_input_layer[0][0]            \n",
      "__________________________________________________________________________________________________\n",
      "concatenate (Concatenate)       (None, 76972)        0           flatten[0][0]                    \n",
      "                                                                 flatten_1[0][0]                  \n",
      "                                                                 flatten_2[0][0]                  \n",
      "                                                                 flatten_3[0][0]                  \n",
      "                                                                 flatten_4[0][0]                  \n",
      "                                                                 flatten_5[0][0]                  \n",
      "                                                                 dense[0][0]                      \n",
      "__________________________________________________________________________________________________\n",
      "batch_normalization (BatchNorma (None, 76972)        307888      concatenate[0][0]                \n",
      "__________________________________________________________________________________________________\n",
      "dense_1 (Dense)                 (None, 256)          19705088    batch_normalization[0][0]        \n",
      "__________________________________________________________________________________________________\n",
      "dropout (Dropout)               (None, 256)          0           dense_1[0][0]                    \n",
      "__________________________________________________________________________________________________\n",
      "dense_2 (Dense)                 (None, 128)          32896       dropout[0][0]                    \n",
      "__________________________________________________________________________________________________\n",
      "dropout_1 (Dropout)             (None, 128)          0           dense_2[0][0]                    \n",
      "__________________________________________________________________________________________________\n",
      "dense_3 (Dense)                 (None, 64)           8256        dropout_1[0][0]                  \n",
      "__________________________________________________________________________________________________\n",
      "dropout_2 (Dropout)             (None, 64)           0           dense_3[0][0]                    \n",
      "__________________________________________________________________________________________________\n",
      "dense_4 (Dense)                 (None, 32)           2080        dropout_2[0][0]                  \n",
      "__________________________________________________________________________________________________\n",
      "dropout_3 (Dropout)             (None, 32)           0           dense_4[0][0]                    \n",
      "__________________________________________________________________________________________________\n",
      "dense_5 (Dense)                 (None, 16)           528         dropout_3[0][0]                  \n",
      "__________________________________________________________________________________________________\n",
      "dense_6 (Dense)                 (None, 2)            34          dense_5[0][0]                    \n",
      "==================================================================================================\n",
      "Total params: 34,483,111\n",
      "Trainable params: 20,145,167\n",
      "Non-trainable params: 14,337,944\n",
      "__________________________________________________________________________________________________\n"
     ]
    }
   ],
   "source": [
    "model_l.summary()"
   ]
  },
  {
   "cell_type": "code",
   "execution_count": 0,
   "metadata": {
    "colab": {},
    "colab_type": "code",
    "id": "DBl1lMyY-wcm"
   },
   "outputs": [],
   "source": [
    "#https://stackoverflow.com/posts/51734992/revisions\n",
    "import tensorflow as tf\n",
    "from sklearn.metrics import roc_auc_score\n",
    "\n",
    "def auroc(y_true, y_pred):\n",
    "    return tf.py_function(roc_auc_score, (y_true, y_pred), tf.double)"
   ]
  },
  {
   "cell_type": "code",
   "execution_count": 0,
   "metadata": {
    "colab": {},
    "colab_type": "code",
    "id": "_DIEt-cr3Cqz"
   },
   "outputs": [],
   "source": [
    "import keras"
   ]
  },
  {
   "cell_type": "code",
   "execution_count": 0,
   "metadata": {
    "colab": {},
    "colab_type": "code",
    "id": "kAltElKOd4an"
   },
   "outputs": [],
   "source": [
    "adam = tf.keras.optimizers.Adam(lr=0.001)\n",
    "model_l.compile(optimizer=adam, loss='categorical_crossentropy',metrics=[auroc])"
   ]
  },
  {
   "cell_type": "code",
   "execution_count": 0,
   "metadata": {
    "colab": {},
    "colab_type": "code",
    "id": "l4Z3iNkPJLoU"
   },
   "outputs": [],
   "source": [
    "#from tensorflow.keras.callbacks import ModelCheckpoint, EarlyStopping"
   ]
  },
  {
   "cell_type": "code",
   "execution_count": 0,
   "metadata": {
    "colab": {},
    "colab_type": "code",
    "id": "a1n1a13LtzKl"
   },
   "outputs": [],
   "source": [
    "batch_size=512"
   ]
  },
  {
   "cell_type": "code",
   "execution_count": 0,
   "metadata": {
    "colab": {},
    "colab_type": "code",
    "id": "ItvyCOld0C-5"
   },
   "outputs": [],
   "source": [
    "logdir = './lstm_callbacks'\n",
    "\n",
    "if not os.path.exists(logdir):\n",
    "    os.mkdir(logdir)\n",
    "output_model_file = os.path.join(logdir,\n",
    "                                 \"lstm_model.h5\")"
   ]
  },
  {
   "cell_type": "code",
   "execution_count": 0,
   "metadata": {
    "colab": {},
    "colab_type": "code",
    "id": "WNhDN5yB0C7v"
   },
   "outputs": [],
   "source": [
    "from tensorflow.keras.callbacks import *\n",
    "callbacks = [\n",
    "    \n",
    "    ModelCheckpoint(output_model_file, monitor='val_loss',\n",
    "                                    save_best_only = True),\n",
    "    EarlyStopping(patience=5, min_delta=1e-3),\n",
    "]"
   ]
  },
  {
   "cell_type": "code",
   "execution_count": 0,
   "metadata": {
    "colab": {
     "base_uri": "https://localhost:8080/",
     "height": 1000
    },
    "colab_type": "code",
    "executionInfo": {
     "elapsed": 6680865,
     "status": "ok",
     "timestamp": 1575484850831,
     "user": {
      "displayName": "Himanshu Bandoliya",
      "photoUrl": "",
      "userId": "03705328663112349542"
     },
     "user_tz": -330
    },
    "id": "K9aVbI7qSABi",
    "outputId": "1affbb46-8ee8-4bf9-c856-7ed34ca7fb64"
   },
   "outputs": [
    {
     "name": "stdout",
     "output_type": "stream",
     "text": [
      "WARNING:tensorflow:From /usr/local/lib/python3.6/dist-packages/tensorflow_core/python/ops/math_grad.py:1424: where (from tensorflow.python.ops.array_ops) is deprecated and will be removed in a future version.\n",
      "Instructions for updating:\n",
      "Use tf.where in 2.0, which has the same broadcast rule as np.where\n",
      "Train on 69916 samples, validate on 17480 samples\n",
      "Epoch 1/30\n",
      "69632/69916 [============================>.] - ETA: 0s - loss: 23.0350 - auroc: 0.5366WARNING:tensorflow:Can save best model only with val_acc available, skipping.\n",
      "69916/69916 [==============================] - 228s 3ms/sample - loss: 23.0004 - auroc: 0.5369 - val_loss: 13.6813 - val_auroc: 0.5803\n",
      "Epoch 2/30\n",
      "69632/69916 [============================>.] - ETA: 0s - loss: 11.4182 - auroc: 0.5476WARNING:tensorflow:Can save best model only with val_acc available, skipping.\n",
      "69916/69916 [==============================] - 228s 3ms/sample - loss: 11.4066 - auroc: 0.5476 - val_loss: 8.3834 - val_auroc: 0.6377\n",
      "Epoch 3/30\n",
      "69632/69916 [============================>.] - ETA: 0s - loss: 6.7764 - auroc: 0.5673WARNING:tensorflow:Can save best model only with val_acc available, skipping.\n",
      "69916/69916 [==============================] - 228s 3ms/sample - loss: 6.7710 - auroc: 0.5671 - val_loss: 5.3025 - val_auroc: 0.6392\n",
      "Epoch 4/30\n",
      "69632/69916 [============================>.] - ETA: 0s - loss: 4.5458 - auroc: 0.6015WARNING:tensorflow:Can save best model only with val_acc available, skipping.\n",
      "69916/69916 [==============================] - 226s 3ms/sample - loss: 4.5430 - auroc: 0.6016 - val_loss: 3.8899 - val_auroc: 0.6381\n",
      "Epoch 5/30\n",
      "69632/69916 [============================>.] - ETA: 0s - loss: 3.4862 - auroc: 0.6269WARNING:tensorflow:Can save best model only with val_acc available, skipping.\n",
      "69916/69916 [==============================] - 227s 3ms/sample - loss: 3.4846 - auroc: 0.6269 - val_loss: 3.1100 - val_auroc: 0.6438\n",
      "Epoch 6/30\n",
      "69632/69916 [============================>.] - ETA: 0s - loss: 2.8408 - auroc: 0.6442WARNING:tensorflow:Can save best model only with val_acc available, skipping.\n",
      "69916/69916 [==============================] - 225s 3ms/sample - loss: 2.8397 - auroc: 0.6442 - val_loss: 2.5635 - val_auroc: 0.6637\n",
      "Epoch 7/30\n",
      "69632/69916 [============================>.] - ETA: 0s - loss: 2.3772 - auroc: 0.6630WARNING:tensorflow:Can save best model only with val_acc available, skipping.\n",
      "69916/69916 [==============================] - 223s 3ms/sample - loss: 2.3766 - auroc: 0.6626 - val_loss: 2.1789 - val_auroc: 0.6806\n",
      "Epoch 8/30\n",
      "69632/69916 [============================>.] - ETA: 0s - loss: 2.0253 - auroc: 0.6810WARNING:tensorflow:Can save best model only with val_acc available, skipping.\n",
      "69916/69916 [==============================] - 224s 3ms/sample - loss: 2.0246 - auroc: 0.6812 - val_loss: 1.8625 - val_auroc: 0.6791\n",
      "Epoch 9/30\n",
      "69632/69916 [============================>.] - ETA: 0s - loss: 1.7248 - auroc: 0.6897WARNING:tensorflow:Can save best model only with val_acc available, skipping.\n",
      "69916/69916 [==============================] - 221s 3ms/sample - loss: 1.7242 - auroc: 0.6894 - val_loss: 1.5961 - val_auroc: 0.6887\n",
      "Epoch 10/30\n",
      "69632/69916 [============================>.] - ETA: 0s - loss: 1.4824 - auroc: 0.6956WARNING:tensorflow:Can save best model only with val_acc available, skipping.\n",
      "69916/69916 [==============================] - 219s 3ms/sample - loss: 1.4820 - auroc: 0.6948 - val_loss: 1.3835 - val_auroc: 0.6985\n",
      "Epoch 11/30\n",
      "69632/69916 [============================>.] - ETA: 0s - loss: 1.2766 - auroc: 0.7037WARNING:tensorflow:Can save best model only with val_acc available, skipping.\n",
      "69916/69916 [==============================] - 220s 3ms/sample - loss: 1.2761 - auroc: 0.7039 - val_loss: 1.1870 - val_auroc: 0.6999\n",
      "Epoch 12/30\n",
      "69632/69916 [============================>.] - ETA: 0s - loss: 1.1129 - auroc: 0.7066WARNING:tensorflow:Can save best model only with val_acc available, skipping.\n",
      "69916/69916 [==============================] - 220s 3ms/sample - loss: 1.1126 - auroc: 0.7060 - val_loss: 1.0648 - val_auroc: 0.6932\n",
      "Epoch 13/30\n",
      "69632/69916 [============================>.] - ETA: 0s - loss: 0.9795 - auroc: 0.7078WARNING:tensorflow:Can save best model only with val_acc available, skipping.\n",
      "69916/69916 [==============================] - 219s 3ms/sample - loss: 0.9795 - auroc: 0.7075 - val_loss: 0.9209 - val_auroc: 0.7034\n",
      "Epoch 14/30\n",
      "69632/69916 [============================>.] - ETA: 0s - loss: 0.8677 - auroc: 0.7145WARNING:tensorflow:Can save best model only with val_acc available, skipping.\n",
      "69916/69916 [==============================] - 220s 3ms/sample - loss: 0.8677 - auroc: 0.7139 - val_loss: 0.8331 - val_auroc: 0.7030\n",
      "Epoch 15/30\n",
      "69632/69916 [============================>.] - ETA: 0s - loss: 0.7787 - auroc: 0.7182WARNING:tensorflow:Can save best model only with val_acc available, skipping.\n",
      "69916/69916 [==============================] - 224s 3ms/sample - loss: 0.7788 - auroc: 0.7183 - val_loss: 0.7629 - val_auroc: 0.7039\n",
      "Epoch 16/30\n",
      "69632/69916 [============================>.] - ETA: 0s - loss: 0.7080 - auroc: 0.7178WARNING:tensorflow:Can save best model only with val_acc available, skipping.\n",
      "69916/69916 [==============================] - 223s 3ms/sample - loss: 0.7079 - auroc: 0.7172 - val_loss: 0.6803 - val_auroc: 0.7067\n",
      "Epoch 17/30\n",
      "69632/69916 [============================>.] - ETA: 0s - loss: 0.6496 - auroc: 0.7225WARNING:tensorflow:Can save best model only with val_acc available, skipping.\n",
      "69916/69916 [==============================] - 222s 3ms/sample - loss: 0.6496 - auroc: 0.7225 - val_loss: 0.6305 - val_auroc: 0.7120\n",
      "Epoch 18/30\n",
      "69632/69916 [============================>.] - ETA: 0s - loss: 0.6016 - auroc: 0.7226WARNING:tensorflow:Can save best model only with val_acc available, skipping.\n",
      "69916/69916 [==============================] - 221s 3ms/sample - loss: 0.6015 - auroc: 0.7220 - val_loss: 0.5910 - val_auroc: 0.7086\n",
      "Epoch 19/30\n",
      "69632/69916 [============================>.] - ETA: 0s - loss: 0.5650 - auroc: 0.7249WARNING:tensorflow:Can save best model only with val_acc available, skipping.\n",
      "69916/69916 [==============================] - 222s 3ms/sample - loss: 0.5650 - auroc: 0.7252 - val_loss: 0.5874 - val_auroc: 0.6961\n",
      "Epoch 20/30\n",
      "69632/69916 [============================>.] - ETA: 0s - loss: 0.5345 - auroc: 0.7252WARNING:tensorflow:Can save best model only with val_acc available, skipping.\n",
      "69916/69916 [==============================] - 221s 3ms/sample - loss: 0.5346 - auroc: 0.7249 - val_loss: 0.5345 - val_auroc: 0.7207\n",
      "Epoch 21/30\n",
      "69632/69916 [============================>.] - ETA: 0s - loss: 0.5102 - auroc: 0.7324WARNING:tensorflow:Can save best model only with val_acc available, skipping.\n",
      "69916/69916 [==============================] - 221s 3ms/sample - loss: 0.5102 - auroc: 0.7328 - val_loss: 0.5074 - val_auroc: 0.7140\n",
      "Epoch 22/30\n",
      "69632/69916 [============================>.] - ETA: 0s - loss: 0.4927 - auroc: 0.7322WARNING:tensorflow:Can save best model only with val_acc available, skipping.\n",
      "69916/69916 [==============================] - 221s 3ms/sample - loss: 0.4929 - auroc: 0.7317 - val_loss: 0.4935 - val_auroc: 0.7169\n",
      "Epoch 23/30\n",
      "69632/69916 [============================>.] - ETA: 0s - loss: 0.4788 - auroc: 0.7306WARNING:tensorflow:Can save best model only with val_acc available, skipping.\n",
      "69916/69916 [==============================] - 221s 3ms/sample - loss: 0.4785 - auroc: 0.7309 - val_loss: 0.4865 - val_auroc: 0.7175\n",
      "Epoch 24/30\n",
      "69632/69916 [============================>.] - ETA: 0s - loss: 0.4652 - auroc: 0.7368WARNING:tensorflow:Can save best model only with val_acc available, skipping.\n",
      "69916/69916 [==============================] - 222s 3ms/sample - loss: 0.4651 - auroc: 0.7363 - val_loss: 0.5085 - val_auroc: 0.7099\n",
      "Epoch 25/30\n",
      "69632/69916 [============================>.] - ETA: 0s - loss: 0.4560 - auroc: 0.7396WARNING:tensorflow:Can save best model only with val_acc available, skipping.\n",
      "69916/69916 [==============================] - 222s 3ms/sample - loss: 0.4562 - auroc: 0.7393 - val_loss: 0.4584 - val_auroc: 0.7289\n",
      "Epoch 26/30\n",
      "69632/69916 [============================>.] - ETA: 0s - loss: 0.4500 - auroc: 0.7398WARNING:tensorflow:Can save best model only with val_acc available, skipping.\n",
      "69916/69916 [==============================] - 222s 3ms/sample - loss: 0.4500 - auroc: 0.7394 - val_loss: 0.4738 - val_auroc: 0.7224\n",
      "Epoch 27/30\n",
      "69632/69916 [============================>.] - ETA: 0s - loss: 0.4406 - auroc: 0.7447WARNING:tensorflow:Can save best model only with val_acc available, skipping.\n",
      "69916/69916 [==============================] - 222s 3ms/sample - loss: 0.4406 - auroc: 0.7449 - val_loss: 0.4501 - val_auroc: 0.7345\n",
      "Epoch 28/30\n",
      "69632/69916 [============================>.] - ETA: 0s - loss: 0.4377 - auroc: 0.7473WARNING:tensorflow:Can save best model only with val_acc available, skipping.\n",
      "69916/69916 [==============================] - 222s 3ms/sample - loss: 0.4378 - auroc: 0.7471 - val_loss: 0.4419 - val_auroc: 0.7453\n",
      "Epoch 29/30\n",
      "69632/69916 [============================>.] - ETA: 0s - loss: 0.4342 - auroc: 0.7479WARNING:tensorflow:Can save best model only with val_acc available, skipping.\n",
      "69916/69916 [==============================] - 222s 3ms/sample - loss: 0.4342 - auroc: 0.7476 - val_loss: 0.4513 - val_auroc: 0.7391\n",
      "Epoch 30/30\n",
      "69632/69916 [============================>.] - ETA: 0s - loss: 0.4292 - auroc: 0.7534WARNING:tensorflow:Can save best model only with val_acc available, skipping.\n",
      "69916/69916 [==============================] - 222s 3ms/sample - loss: 0.4290 - auroc: 0.7532 - val_loss: 0.4315 - val_auroc: 0.7500\n"
     ]
    }
   ],
   "source": [
    "history_1= model_l.fit({'text_input': essay_padded_train, 'school_state': x_train_state_ohe, 'project_grade_category': x_train_grade_ohe,'clean_categories': x_train_cat_ohe,'clean_subcategories':x_train_scat_ohe, 'teacher_prefix':x_train_teacher_prefix_ohe,'rem_input_layer' : rem_input_train},\n",
    "          y_binary_train,\n",
    "          epochs=30, batch_size=batch_size,verbose=1, validation_data=({'text_input': essay_padded_cv, 'school_state': x_cv_state_ohe, 'project_grade_category': x_cv_grade_ohe,'clean_categories': x_cv_cat_ohe,'clean_subcategories':x_cv_scat_ohe, 'teacher_prefix':x_cv_teacher_prefix_ohe ,'rem_input_layer' : rem_input_cv},\n",
    "          y_binary_cv),callbacks=callbacks)"
   ]
  },
  {
   "cell_type": "code",
   "execution_count": 0,
   "metadata": {
    "colab": {},
    "colab_type": "code",
    "id": "EpsAtqhqSsmG"
   },
   "outputs": [],
   "source": []
  },
  {
   "cell_type": "code",
   "execution_count": 0,
   "metadata": {
    "colab": {
     "base_uri": "https://localhost:8080/",
     "height": 34
    },
    "colab_type": "code",
    "executionInfo": {
     "elapsed": 20849,
     "status": "ok",
     "timestamp": 1575484994438,
     "user": {
      "displayName": "Himanshu Bandoliya",
      "photoUrl": "",
      "userId": "03705328663112349542"
     },
     "user_tz": -330
    },
    "id": "Dqrrsz6wTjk5",
    "outputId": "5bf61b4f-cd50-496f-d0ca-ab3f43dc8b7d"
   },
   "outputs": [
    {
     "name": "stdout",
     "output_type": "stream",
     "text": [
      "21849/21849 [==============================] - 20s 918us/sample - loss: 0.4299 - auroc: 0.7478\n"
     ]
    }
   ],
   "source": [
    "result = model_l.evaluate({'text_input': essay_padded_test, 'school_state': x_test_state_ohe, 'project_grade_category': x_test_grade_ohe,'clean_categories': x_test_cat_ohe,'clean_subcategories':x_test_scat_ohe, 'teacher_prefix':x_test_teacher_prefix_ohe, 'rem_input_layer':rem_input_test},\n",
    "          y_binary_test,batch_size=512)"
   ]
  },
  {
   "cell_type": "markdown",
   "metadata": {
    "colab_type": "text",
    "id": "LwWHKzakV_wP"
   },
   "source": [
    "Accuracy of Model 1 is 74.78% with loss of 0.4299"
   ]
  }
 ],
 "metadata": {
  "accelerator": "GPU",
  "colab": {
   "collapsed_sections": [],
   "name": "LSTM_Copy.ipynb",
   "provenance": [],
   "toc_visible": true
  },
  "kernelspec": {
   "display_name": "Python 3",
   "language": "python",
   "name": "python3"
  },
  "language_info": {
   "codemirror_mode": {
    "name": "ipython",
    "version": 3
   },
   "file_extension": ".py",
   "mimetype": "text/x-python",
   "name": "python",
   "nbconvert_exporter": "python",
   "pygments_lexer": "ipython3",
   "version": "3.7.1"
  }
 },
 "nbformat": 4,
 "nbformat_minor": 1
}
